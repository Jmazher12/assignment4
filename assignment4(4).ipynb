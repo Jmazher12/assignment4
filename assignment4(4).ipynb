{
 "cells": [
  {
   "cell_type": "markdown",
   "metadata": {},
   "source": [
    "# Assignment #4: Linear Models and Decision Trees\n",
    "## Foundations of Machine Learning\n",
    "## Do Q1 and one other question.\n",
    "### Advice: Reuse your code and code from lectures, package routine tasks into functions, make plans about how you'll carry out the analysis before jumping into writing code, and work as efficiently as possible"
   ]
  },
  {
   "cell_type": "markdown",
   "metadata": {},
   "source": [
    "**Q1.** This question is a case study for linear models and decision trees. The data are about car prices. In particular, they include:\n",
    "\n",
    "  - `Price`, `Color`, `Seating_Capacity`\n",
    "  - `Body_Type`: crossover, hatchback, muv, sedan, suv \n",
    "  - `Make`, `Make_Year`: The brand of car and year produced\n",
    "  - `Mileage_Run`: The number of miles on the odometer\n",
    "  - `Fuel_Type`: Diesel or gasoline/petrol\n",
    "  - `Transmission`, `Transmission_Type`:  speeds and automatic/manual\n",
    "\n",
    "  1. Load `cars_hw.csv`. These data were really dirty, and I've already cleaned them a significant amount in terms of missing values and other issues, but some issues remain (e.g. outliers, badly scaled variables that require a log or arcsinh transformation). Clean the data however you think is most appropriate.\n",
    "  2. Summarize the `Price` variable and create a kernel density plot. Use `.groupby()` and `.describe()` to summarize prices by brand (`Make`). Make a grouped kernel density plot by `Make`. Which car brands are the most expensive? What do prices look like in general?\n",
    "  3. Split the data into an 80% training set and a 20% testing set.\n",
    "  4. Let's focus on linear models. Make a model where you regress price on the numeric variables alone; what is the $R^2$ and `RMSE` on the test set? Make a second model where, for the categorical variables, make a model comprised of one-hot encoded regressors/features alone, and regress price on those variables; what is the $R^2$ and `RMSE` on the test set? Which model performs better on the test set? Make a third model that combines all the regressors from the previous two; what is the $R^2$ and `RMSE` on the test set? Does the joint model perform better or worse, and by home much?\n",
    "  5. Use the `PolynomialFeatures` function from `sklearn` to expand the set of numerical variables you're using, along with the categorical variables. As you increase the degree of the expansion, how do the $R^2$ and `RMSE` change? At what point does $R^2$ go negative on the test set? For your best model with expanded features, what is the $R^2$ and `RMSE`? How does it compare to your best model from part 3?\n",
    "  6. For your best model so far, determine the predicted values for the test data and plot them against the true values. Do the predicted values and true values roughly line up along the diagonal, or not? Compute the residuals/errors for the test data and create a kernel density plot. Do the residuals look roughly bell-shaped around zero? Evaluate the strengths and weaknesses of your model.\n",
    "  7. Now, let's use a regression tree. Construct an appropriate matrix of regressors/features, and fit a tree to the data. Vary the maximum depth of the decision tree using the `max_depth` option (i.e. `tree.DecisionTreeRegressor(max_depth=D)`), and compute the $R^2$ and `RMSE` on the test set of a variety of depths. What depth tree gives the best results?\n",
    "  8. For your best tree, determine the predicted values for the test data, and plot them against the true values. Do the predicted values and true values line up along the diagonal, or not? Compute the residuals/errors for the test data and create a kernel density plot. Do the residuals look roughly bell-shaped around zero?\n",
    "  12. Which model --- linear model or classification and regression tree --- has better performance on the test set?"
   ]
  },
  {
   "cell_type": "code",
   "execution_count": 1,
   "metadata": {},
   "outputs": [
    {
     "data": {
      "text/html": [
       "<div>\n",
       "<style scoped>\n",
       "    .dataframe tbody tr th:only-of-type {\n",
       "        vertical-align: middle;\n",
       "    }\n",
       "\n",
       "    .dataframe tbody tr th {\n",
       "        vertical-align: top;\n",
       "    }\n",
       "\n",
       "    .dataframe thead th {\n",
       "        text-align: right;\n",
       "    }\n",
       "</style>\n",
       "<table border=\"1\" class=\"dataframe\">\n",
       "  <thead>\n",
       "    <tr style=\"text-align: right;\">\n",
       "      <th></th>\n",
       "      <th>Unnamed: 0</th>\n",
       "      <th>Make</th>\n",
       "      <th>Make_Year</th>\n",
       "      <th>Color</th>\n",
       "      <th>Body_Type</th>\n",
       "      <th>Mileage_Run</th>\n",
       "      <th>No_of_Owners</th>\n",
       "      <th>Seating_Capacity</th>\n",
       "      <th>Fuel_Type</th>\n",
       "      <th>Transmission</th>\n",
       "      <th>Transmission_Type</th>\n",
       "      <th>Price</th>\n",
       "    </tr>\n",
       "  </thead>\n",
       "  <tbody>\n",
       "    <tr>\n",
       "      <th>0</th>\n",
       "      <td>1</td>\n",
       "      <td>Volkswagen</td>\n",
       "      <td>2017</td>\n",
       "      <td>silver</td>\n",
       "      <td>sedan</td>\n",
       "      <td>44611</td>\n",
       "      <td>1st</td>\n",
       "      <td>5</td>\n",
       "      <td>diesel</td>\n",
       "      <td>7-Speed</td>\n",
       "      <td>Automatic</td>\n",
       "      <td>657000</td>\n",
       "    </tr>\n",
       "    <tr>\n",
       "      <th>1</th>\n",
       "      <td>2</td>\n",
       "      <td>Hyundai</td>\n",
       "      <td>2016</td>\n",
       "      <td>red</td>\n",
       "      <td>crossover</td>\n",
       "      <td>20305</td>\n",
       "      <td>1st</td>\n",
       "      <td>5</td>\n",
       "      <td>petrol</td>\n",
       "      <td>5-Speed</td>\n",
       "      <td>Manual</td>\n",
       "      <td>682000</td>\n",
       "    </tr>\n",
       "    <tr>\n",
       "      <th>2</th>\n",
       "      <td>3</td>\n",
       "      <td>Honda</td>\n",
       "      <td>2019</td>\n",
       "      <td>white</td>\n",
       "      <td>suv</td>\n",
       "      <td>29540</td>\n",
       "      <td>2nd</td>\n",
       "      <td>5</td>\n",
       "      <td>petrol</td>\n",
       "      <td>5-Speed</td>\n",
       "      <td>Manual</td>\n",
       "      <td>793000</td>\n",
       "    </tr>\n",
       "    <tr>\n",
       "      <th>3</th>\n",
       "      <td>4</td>\n",
       "      <td>Renault</td>\n",
       "      <td>2017</td>\n",
       "      <td>bronze</td>\n",
       "      <td>hatchback</td>\n",
       "      <td>35680</td>\n",
       "      <td>1st</td>\n",
       "      <td>5</td>\n",
       "      <td>petrol</td>\n",
       "      <td>5-Speed</td>\n",
       "      <td>Manual</td>\n",
       "      <td>414000</td>\n",
       "    </tr>\n",
       "    <tr>\n",
       "      <th>4</th>\n",
       "      <td>5</td>\n",
       "      <td>Hyundai</td>\n",
       "      <td>2017</td>\n",
       "      <td>orange</td>\n",
       "      <td>hatchback</td>\n",
       "      <td>25126</td>\n",
       "      <td>1st</td>\n",
       "      <td>5</td>\n",
       "      <td>petrol</td>\n",
       "      <td>5-Speed</td>\n",
       "      <td>Manual</td>\n",
       "      <td>515000</td>\n",
       "    </tr>\n",
       "  </tbody>\n",
       "</table>\n",
       "</div>"
      ],
      "text/plain": [
       "   Unnamed: 0        Make  Make_Year   Color  Body_Type  Mileage_Run  \\\n",
       "0           1  Volkswagen       2017  silver      sedan        44611   \n",
       "1           2     Hyundai       2016     red  crossover        20305   \n",
       "2           3       Honda       2019   white        suv        29540   \n",
       "3           4     Renault       2017  bronze  hatchback        35680   \n",
       "4           5     Hyundai       2017  orange  hatchback        25126   \n",
       "\n",
       "  No_of_Owners  Seating_Capacity Fuel_Type Transmission Transmission_Type  \\\n",
       "0          1st                 5    diesel      7-Speed         Automatic   \n",
       "1          1st                 5    petrol      5-Speed            Manual   \n",
       "2          2nd                 5    petrol      5-Speed            Manual   \n",
       "3          1st                 5    petrol      5-Speed            Manual   \n",
       "4          1st                 5    petrol      5-Speed            Manual   \n",
       "\n",
       "    Price  \n",
       "0  657000  \n",
       "1  682000  \n",
       "2  793000  \n",
       "3  414000  \n",
       "4  515000  "
      ]
     },
     "execution_count": 1,
     "metadata": {},
     "output_type": "execute_result"
    }
   ],
   "source": [
    "import numpy as np\n",
    "import matplotlib.pyplot as plt\n",
    "import pandas as pd\n",
    "import seaborn as sns\n",
    "\n",
    "# Q1 part 1:\n",
    "df = pd.read_csv('./data/cars_hw.csv')\n",
    "df.head()"
   ]
  },
  {
   "cell_type": "code",
   "execution_count": 2,
   "metadata": {},
   "outputs": [],
   "source": [
    "df['age'] = max(df['Make_Year'])-df['Make_Year']"
   ]
  },
  {
   "cell_type": "code",
   "execution_count": 3,
   "metadata": {},
   "outputs": [],
   "source": [
    "# Rescaling price and age variables\n",
    "df['price_ihs'] = np.arcsinh(df['Price'])\n",
    "df['age_ihs'] = np.arcsinh(df['age'])"
   ]
  },
  {
   "cell_type": "code",
   "execution_count": 4,
   "metadata": {},
   "outputs": [
    {
     "data": {
      "text/plain": [
       "<AxesSubplot:>"
      ]
     },
     "execution_count": 4,
     "metadata": {},
     "output_type": "execute_result"
    },
    {
     "data": {
      "image/png": "[encoded data removed]",
      "text/plain": [
       "<Figure size 432x288 with 1 Axes>"
      ]
     },
     "metadata": {
      "needs_background": "light"
     },
     "output_type": "display_data"
    }
   ],
   "source": [
    "df['price_ihs'].plot.box()"
   ]
  },
  {
   "cell_type": "code",
   "execution_count": 5,
   "metadata": {},
   "outputs": [
    {
     "data": {
      "text/plain": [
       "<AxesSubplot:>"
      ]
     },
     "execution_count": 5,
     "metadata": {},
     "output_type": "execute_result"
    },
    {
     "data": {
      "image/png": "[encoded data removed]",
      "text/plain": [
       "<Figure size 432x288 with 1 Axes>"
      ]
     },
     "metadata": {
      "needs_background": "light"
     },
     "output_type": "display_data"
    }
   ],
   "source": [
    "df['age_ihs'].plot.box()"
   ]
  },
  {
   "cell_type": "code",
   "execution_count": 6,
   "metadata": {},
   "outputs": [
    {
     "data": {
      "text/plain": [
       "<AxesSubplot:xlabel='age_ihs', ylabel='price_ihs'>"
      ]
     },
     "execution_count": 6,
     "metadata": {},
     "output_type": "execute_result"
    },
    {
     "data": {
      "image/png": "[encoded data removed]",
      "text/plain": [
       "<Figure size 432x288 with 1 Axes>"
      ]
     },
     "metadata": {
      "needs_background": "light"
     },
     "output_type": "display_data"
    }
   ],
   "source": [
    "sns.scatterplot(data=df,y='price_ihs',x='age_ihs')"
   ]
  },
  {
   "cell_type": "code",
   "execution_count": 7,
   "metadata": {},
   "outputs": [],
   "source": [
    "# Drop outliers:\n",
    "df = df.loc[df['price_ihs']<15.5,:]\n",
    "df = df.loc[df['price_ihs']>13,:]\n",
    "df = df.loc[df['age_ihs']>0.5,:]"
   ]
  },
  {
   "cell_type": "code",
   "execution_count": 8,
   "metadata": {},
   "outputs": [
    {
     "data": {
      "text/plain": [
       "<AxesSubplot:xlabel='age_ihs', ylabel='price_ihs'>"
      ]
     },
     "execution_count": 8,
     "metadata": {},
     "output_type": "execute_result"
    },
    {
     "data": {
      "image/png": "[encoded data removed]",
      "text/plain": [
       "<Figure size 432x288 with 1 Axes>"
      ]
     },
     "metadata": {
      "needs_background": "light"
     },
     "output_type": "display_data"
    }
   ],
   "source": [
    "sns.scatterplot(data=df,y='price_ihs',x='age_ihs')"
   ]
  },
  {
   "cell_type": "code",
   "execution_count": 9,
   "metadata": {},
   "outputs": [
    {
     "data": {
      "text/plain": [
       "count    9.600000e+02\n",
       "mean     7.380156e+05\n",
       "std      3.624399e+05\n",
       "min      2.370000e+05\n",
       "25%      4.717500e+05\n",
       "50%      6.615000e+05\n",
       "75%      8.822500e+05\n",
       "max      2.100000e+06\n",
       "Name: Price, dtype: float64"
      ]
     },
     "execution_count": 9,
     "metadata": {},
     "output_type": "execute_result"
    }
   ],
   "source": [
    "# Q1 part 2:\n",
    "df['Price'].describe()"
   ]
  },
  {
   "cell_type": "code",
   "execution_count": 10,
   "metadata": {},
   "outputs": [
    {
     "data": {
      "text/plain": [
       "<AxesSubplot:xlabel='Price', ylabel='Density'>"
      ]
     },
     "execution_count": 10,
     "metadata": {},
     "output_type": "execute_result"
    },
    {
     "data": {
      "image/png": "[encoded data removed]",
      "text/plain": [
       "<Figure size 432x288 with 1 Axes>"
      ]
     },
     "metadata": {
      "needs_background": "light"
     },
     "output_type": "display_data"
    }
   ],
   "source": [
    "sns.kdeplot(data=df, x='Price')"
   ]
  },
  {
   "cell_type": "code",
   "execution_count": 11,
   "metadata": {},
   "outputs": [
    {
     "data": {
      "text/plain": [
       "count    9.600000e+02\n",
       "mean     7.380156e+05\n",
       "std      3.624399e+05\n",
       "min      2.370000e+05\n",
       "25%      4.717500e+05\n",
       "50%      6.615000e+05\n",
       "75%      8.822500e+05\n",
       "max      2.100000e+06\n",
       "Name: Price, dtype: float64"
      ]
     },
     "execution_count": 11,
     "metadata": {},
     "output_type": "execute_result"
    }
   ],
   "source": [
    "df['Price'].describe()"
   ]
  },
  {
   "cell_type": "code",
   "execution_count": 12,
   "metadata": {},
   "outputs": [
    {
     "data": {
      "text/html": [
       "<div>\n",
       "<style scoped>\n",
       "    .dataframe tbody tr th:only-of-type {\n",
       "        vertical-align: middle;\n",
       "    }\n",
       "\n",
       "    .dataframe tbody tr th {\n",
       "        vertical-align: top;\n",
       "    }\n",
       "\n",
       "    .dataframe thead th {\n",
       "        text-align: right;\n",
       "    }\n",
       "</style>\n",
       "<table border=\"1\" class=\"dataframe\">\n",
       "  <thead>\n",
       "    <tr style=\"text-align: right;\">\n",
       "      <th></th>\n",
       "      <th>count</th>\n",
       "      <th>mean</th>\n",
       "      <th>std</th>\n",
       "      <th>min</th>\n",
       "      <th>25%</th>\n",
       "      <th>50%</th>\n",
       "      <th>75%</th>\n",
       "      <th>max</th>\n",
       "    </tr>\n",
       "    <tr>\n",
       "      <th>Make</th>\n",
       "      <th></th>\n",
       "      <th></th>\n",
       "      <th></th>\n",
       "      <th></th>\n",
       "      <th></th>\n",
       "      <th></th>\n",
       "      <th></th>\n",
       "      <th></th>\n",
       "    </tr>\n",
       "  </thead>\n",
       "  <tbody>\n",
       "    <tr>\n",
       "      <th>Chevrolet</th>\n",
       "      <td>6.0</td>\n",
       "      <td>4.535000e+05</td>\n",
       "      <td>246606.366503</td>\n",
       "      <td>267000.0</td>\n",
       "      <td>288500.0</td>\n",
       "      <td>345500.0</td>\n",
       "      <td>537500.0</td>\n",
       "      <td>892000.0</td>\n",
       "    </tr>\n",
       "    <tr>\n",
       "      <th>Datsun</th>\n",
       "      <td>3.0</td>\n",
       "      <td>2.896667e+05</td>\n",
       "      <td>10503.967504</td>\n",
       "      <td>279000.0</td>\n",
       "      <td>284500.0</td>\n",
       "      <td>290000.0</td>\n",
       "      <td>295000.0</td>\n",
       "      <td>300000.0</td>\n",
       "    </tr>\n",
       "    <tr>\n",
       "      <th>Ford</th>\n",
       "      <td>52.0</td>\n",
       "      <td>7.211731e+05</td>\n",
       "      <td>140927.699605</td>\n",
       "      <td>290000.0</td>\n",
       "      <td>635000.0</td>\n",
       "      <td>707500.0</td>\n",
       "      <td>787000.0</td>\n",
       "      <td>1066000.0</td>\n",
       "    </tr>\n",
       "    <tr>\n",
       "      <th>Honda</th>\n",
       "      <td>73.0</td>\n",
       "      <td>7.989726e+05</td>\n",
       "      <td>266509.066586</td>\n",
       "      <td>316000.0</td>\n",
       "      <td>581000.0</td>\n",
       "      <td>785000.0</td>\n",
       "      <td>915000.0</td>\n",
       "      <td>1537000.0</td>\n",
       "    </tr>\n",
       "    <tr>\n",
       "      <th>Hyundai</th>\n",
       "      <td>303.0</td>\n",
       "      <td>6.910924e+05</td>\n",
       "      <td>279859.492966</td>\n",
       "      <td>248000.0</td>\n",
       "      <td>484500.0</td>\n",
       "      <td>638000.0</td>\n",
       "      <td>836500.0</td>\n",
       "      <td>1742000.0</td>\n",
       "    </tr>\n",
       "    <tr>\n",
       "      <th>Jeep</th>\n",
       "      <td>4.0</td>\n",
       "      <td>1.499500e+06</td>\n",
       "      <td>152513.387391</td>\n",
       "      <td>1290000.0</td>\n",
       "      <td>1447500.0</td>\n",
       "      <td>1529500.0</td>\n",
       "      <td>1581500.0</td>\n",
       "      <td>1649000.0</td>\n",
       "    </tr>\n",
       "    <tr>\n",
       "      <th>Kia</th>\n",
       "      <td>8.0</td>\n",
       "      <td>1.614750e+06</td>\n",
       "      <td>119056.709177</td>\n",
       "      <td>1369000.0</td>\n",
       "      <td>1579000.0</td>\n",
       "      <td>1628500.0</td>\n",
       "      <td>1705750.0</td>\n",
       "      <td>1741000.0</td>\n",
       "    </tr>\n",
       "    <tr>\n",
       "      <th>MG Motors</th>\n",
       "      <td>35.0</td>\n",
       "      <td>1.869457e+06</td>\n",
       "      <td>121661.135671</td>\n",
       "      <td>1589000.0</td>\n",
       "      <td>1786500.0</td>\n",
       "      <td>1848000.0</td>\n",
       "      <td>1978000.0</td>\n",
       "      <td>2019000.0</td>\n",
       "    </tr>\n",
       "    <tr>\n",
       "      <th>Mahindra</th>\n",
       "      <td>18.0</td>\n",
       "      <td>1.100167e+06</td>\n",
       "      <td>175549.305961</td>\n",
       "      <td>796000.0</td>\n",
       "      <td>1037000.0</td>\n",
       "      <td>1094500.0</td>\n",
       "      <td>1157000.0</td>\n",
       "      <td>1465000.0</td>\n",
       "    </tr>\n",
       "    <tr>\n",
       "      <th>Maruti Suzuki</th>\n",
       "      <td>290.0</td>\n",
       "      <td>5.876241e+05</td>\n",
       "      <td>216829.721521</td>\n",
       "      <td>237000.0</td>\n",
       "      <td>410250.0</td>\n",
       "      <td>524000.0</td>\n",
       "      <td>764000.0</td>\n",
       "      <td>1163000.0</td>\n",
       "    </tr>\n",
       "    <tr>\n",
       "      <th>Nissan</th>\n",
       "      <td>2.0</td>\n",
       "      <td>6.800000e+05</td>\n",
       "      <td>289913.780286</td>\n",
       "      <td>475000.0</td>\n",
       "      <td>577500.0</td>\n",
       "      <td>680000.0</td>\n",
       "      <td>782500.0</td>\n",
       "      <td>885000.0</td>\n",
       "    </tr>\n",
       "    <tr>\n",
       "      <th>Renault</th>\n",
       "      <td>66.0</td>\n",
       "      <td>6.633485e+05</td>\n",
       "      <td>217381.160632</td>\n",
       "      <td>287000.0</td>\n",
       "      <td>473000.0</td>\n",
       "      <td>644000.0</td>\n",
       "      <td>805000.0</td>\n",
       "      <td>1164000.0</td>\n",
       "    </tr>\n",
       "    <tr>\n",
       "      <th>Skoda</th>\n",
       "      <td>4.0</td>\n",
       "      <td>6.847500e+05</td>\n",
       "      <td>411730.797974</td>\n",
       "      <td>436000.0</td>\n",
       "      <td>458500.0</td>\n",
       "      <td>502000.0</td>\n",
       "      <td>728250.0</td>\n",
       "      <td>1299000.0</td>\n",
       "    </tr>\n",
       "    <tr>\n",
       "      <th>Tata</th>\n",
       "      <td>17.0</td>\n",
       "      <td>1.155941e+06</td>\n",
       "      <td>600446.445425</td>\n",
       "      <td>239000.0</td>\n",
       "      <td>774000.0</td>\n",
       "      <td>869000.0</td>\n",
       "      <td>1699000.0</td>\n",
       "      <td>2100000.0</td>\n",
       "    </tr>\n",
       "    <tr>\n",
       "      <th>Toyota</th>\n",
       "      <td>50.0</td>\n",
       "      <td>8.003400e+05</td>\n",
       "      <td>246689.973986</td>\n",
       "      <td>368000.0</td>\n",
       "      <td>526250.0</td>\n",
       "      <td>894000.0</td>\n",
       "      <td>1023000.0</td>\n",
       "      <td>1092000.0</td>\n",
       "    </tr>\n",
       "    <tr>\n",
       "      <th>Volkswagen</th>\n",
       "      <td>29.0</td>\n",
       "      <td>6.058276e+05</td>\n",
       "      <td>119831.151735</td>\n",
       "      <td>402000.0</td>\n",
       "      <td>542000.0</td>\n",
       "      <td>607000.0</td>\n",
       "      <td>699000.0</td>\n",
       "      <td>790000.0</td>\n",
       "    </tr>\n",
       "  </tbody>\n",
       "</table>\n",
       "</div>"
      ],
      "text/plain": [
       "               count          mean            std        min        25%  \\\n",
       "Make                                                                      \n",
       "Chevrolet        6.0  4.535000e+05  246606.366503   267000.0   288500.0   \n",
       "Datsun           3.0  2.896667e+05   10503.967504   279000.0   284500.0   \n",
       "Ford            52.0  7.211731e+05  140927.699605   290000.0   635000.0   \n",
       "Honda           73.0  7.989726e+05  266509.066586   316000.0   581000.0   \n",
       "Hyundai        303.0  6.910924e+05  279859.492966   248000.0   484500.0   \n",
       "Jeep             4.0  1.499500e+06  152513.387391  1290000.0  1447500.0   \n",
       "Kia              8.0  1.614750e+06  119056.709177  1369000.0  1579000.0   \n",
       "MG Motors       35.0  1.869457e+06  121661.135671  1589000.0  1786500.0   \n",
       "Mahindra        18.0  1.100167e+06  175549.305961   796000.0  1037000.0   \n",
       "Maruti Suzuki  290.0  5.876241e+05  216829.721521   237000.0   410250.0   \n",
       "Nissan           2.0  6.800000e+05  289913.780286   475000.0   577500.0   \n",
       "Renault         66.0  6.633485e+05  217381.160632   287000.0   473000.0   \n",
       "Skoda            4.0  6.847500e+05  411730.797974   436000.0   458500.0   \n",
       "Tata            17.0  1.155941e+06  600446.445425   239000.0   774000.0   \n",
       "Toyota          50.0  8.003400e+05  246689.973986   368000.0   526250.0   \n",
       "Volkswagen      29.0  6.058276e+05  119831.151735   402000.0   542000.0   \n",
       "\n",
       "                     50%        75%        max  \n",
       "Make                                            \n",
       "Chevrolet       345500.0   537500.0   892000.0  \n",
       "Datsun          290000.0   295000.0   300000.0  \n",
       "Ford            707500.0   787000.0  1066000.0  \n",
       "Honda           785000.0   915000.0  1537000.0  \n",
       "Hyundai         638000.0   836500.0  1742000.0  \n",
       "Jeep           1529500.0  1581500.0  1649000.0  \n",
       "Kia            1628500.0  1705750.0  1741000.0  \n",
       "MG Motors      1848000.0  1978000.0  2019000.0  \n",
       "Mahindra       1094500.0  1157000.0  1465000.0  \n",
       "Maruti Suzuki   524000.0   764000.0  1163000.0  \n",
       "Nissan          680000.0   782500.0   885000.0  \n",
       "Renault         644000.0   805000.0  1164000.0  \n",
       "Skoda           502000.0   728250.0  1299000.0  \n",
       "Tata            869000.0  1699000.0  2100000.0  \n",
       "Toyota          894000.0  1023000.0  1092000.0  \n",
       "Volkswagen      607000.0   699000.0   790000.0  "
      ]
     },
     "execution_count": 12,
     "metadata": {},
     "output_type": "execute_result"
    }
   ],
   "source": [
    "prices_make = df['Price'].groupby(df['Make'])\n",
    "prices_make.describe()"
   ]
  },
  {
   "cell_type": "code",
   "execution_count": 13,
   "metadata": {},
   "outputs": [
    {
     "data": {
      "text/plain": [
       "<AxesSubplot:xlabel='Price', ylabel='Density'>"
      ]
     },
     "execution_count": 13,
     "metadata": {},
     "output_type": "execute_result"
    },
    {
     "data": {
      "image/png": "[encoded data removed]",
      "text/plain": [
       "<Figure size 432x288 with 1 Axes>"
      ]
     },
     "metadata": {
      "needs_background": "light"
     },
     "output_type": "display_data"
    }
   ],
   "source": [
    "sns.kdeplot(data=df, x='Price', hue='Make')\n",
    "# I tried to move the legend, but I wasn't able to do so without making a label,\n",
    "# however making a label such as 'Make' would replace each brand as the string 'Make',\n",
    "# so I ended up just not moving the legend"
   ]
  },
  {
   "cell_type": "code",
   "execution_count": 14,
   "metadata": {},
   "outputs": [
    {
     "data": {
      "text/html": [
       "<div>\n",
       "<style scoped>\n",
       "    .dataframe tbody tr th:only-of-type {\n",
       "        vertical-align: middle;\n",
       "    }\n",
       "\n",
       "    .dataframe tbody tr th {\n",
       "        vertical-align: top;\n",
       "    }\n",
       "\n",
       "    .dataframe thead th {\n",
       "        text-align: right;\n",
       "    }\n",
       "</style>\n",
       "<table border=\"1\" class=\"dataframe\">\n",
       "  <thead>\n",
       "    <tr style=\"text-align: right;\">\n",
       "      <th></th>\n",
       "      <th>Unnamed: 0</th>\n",
       "      <th>Make_Year</th>\n",
       "      <th>Mileage_Run</th>\n",
       "      <th>Seating_Capacity</th>\n",
       "      <th>Price</th>\n",
       "      <th>age</th>\n",
       "      <th>price_ihs</th>\n",
       "      <th>age_ihs</th>\n",
       "    </tr>\n",
       "  </thead>\n",
       "  <tbody>\n",
       "    <tr>\n",
       "      <th>0</th>\n",
       "      <td>1</td>\n",
       "      <td>2017</td>\n",
       "      <td>44611</td>\n",
       "      <td>5</td>\n",
       "      <td>657000</td>\n",
       "      <td>5</td>\n",
       "      <td>14.088586</td>\n",
       "      <td>2.312438</td>\n",
       "    </tr>\n",
       "    <tr>\n",
       "      <th>1</th>\n",
       "      <td>2</td>\n",
       "      <td>2016</td>\n",
       "      <td>20305</td>\n",
       "      <td>5</td>\n",
       "      <td>682000</td>\n",
       "      <td>6</td>\n",
       "      <td>14.125932</td>\n",
       "      <td>2.491780</td>\n",
       "    </tr>\n",
       "    <tr>\n",
       "      <th>2</th>\n",
       "      <td>3</td>\n",
       "      <td>2019</td>\n",
       "      <td>29540</td>\n",
       "      <td>5</td>\n",
       "      <td>793000</td>\n",
       "      <td>3</td>\n",
       "      <td>14.276726</td>\n",
       "      <td>1.818446</td>\n",
       "    </tr>\n",
       "    <tr>\n",
       "      <th>3</th>\n",
       "      <td>4</td>\n",
       "      <td>2017</td>\n",
       "      <td>35680</td>\n",
       "      <td>5</td>\n",
       "      <td>414000</td>\n",
       "      <td>5</td>\n",
       "      <td>13.626768</td>\n",
       "      <td>2.312438</td>\n",
       "    </tr>\n",
       "    <tr>\n",
       "      <th>4</th>\n",
       "      <td>5</td>\n",
       "      <td>2017</td>\n",
       "      <td>25126</td>\n",
       "      <td>5</td>\n",
       "      <td>515000</td>\n",
       "      <td>5</td>\n",
       "      <td>13.845069</td>\n",
       "      <td>2.312438</td>\n",
       "    </tr>\n",
       "  </tbody>\n",
       "</table>\n",
       "</div>"
      ],
      "text/plain": [
       "   Unnamed: 0  Make_Year  Mileage_Run  Seating_Capacity   Price  age  \\\n",
       "0           1       2017        44611                 5  657000    5   \n",
       "1           2       2016        20305                 5  682000    6   \n",
       "2           3       2019        29540                 5  793000    3   \n",
       "3           4       2017        35680                 5  414000    5   \n",
       "4           5       2017        25126                 5  515000    5   \n",
       "\n",
       "   price_ihs   age_ihs  \n",
       "0  14.088586  2.312438  \n",
       "1  14.125932  2.491780  \n",
       "2  14.276726  1.818446  \n",
       "3  13.626768  2.312438  \n",
       "4  13.845069  2.312438  "
      ]
     },
     "execution_count": 14,
     "metadata": {},
     "output_type": "execute_result"
    }
   ],
   "source": [
    "# Q1 part 3:\n",
    "\n",
    "\n",
    "y = df['Price'] # Create target variable vector\n",
    "\n",
    "# Create feature matrix with numeric variables only\n",
    "X = df.drop('Make',axis=1).drop('Color',axis=1).drop('Body_Type',axis=1).drop('No_of_Owners',axis=1).drop('Fuel_Type',axis=1).drop('Transmission',axis=1).drop('Transmission_Type',axis=1)\n",
    "X.head()\n"
   ]
  },
  {
   "cell_type": "code",
   "execution_count": 15,
   "metadata": {},
   "outputs": [],
   "source": [
    "## Test-train split\n",
    "from sklearn.model_selection import train_test_split\n",
    "X_train, X_test, y_train, y_test = train_test_split(X, y, test_size=0.2, random_state=50)\n",
    "TSS = np.sum( (y_test - y_train.mean())**2 )\n",
    "N_test = len(y_test)"
   ]
  },
  {
   "cell_type": "code",
   "execution_count": 16,
   "metadata": {},
   "outputs": [
    {
     "data": {
      "text/plain": [
       "<AxesSubplot:>"
      ]
     },
     "execution_count": 16,
     "metadata": {},
     "output_type": "execute_result"
    },
    {
     "data": {
      "image/png": "[encoded data removed]",
      "text/plain": [
       "<Figure size 432x288 with 1 Axes>"
      ]
     },
     "metadata": {
      "needs_background": "light"
     },
     "output_type": "display_data"
    }
   ],
   "source": [
    "X.plot.box()"
   ]
  },
  {
   "cell_type": "code",
   "execution_count": 17,
   "metadata": {},
   "outputs": [
    {
     "data": {
      "text/html": [
       "<div>\n",
       "<style scoped>\n",
       "    .dataframe tbody tr th:only-of-type {\n",
       "        vertical-align: middle;\n",
       "    }\n",
       "\n",
       "    .dataframe tbody tr th {\n",
       "        vertical-align: top;\n",
       "    }\n",
       "\n",
       "    .dataframe thead th {\n",
       "        text-align: right;\n",
       "    }\n",
       "</style>\n",
       "<table border=\"1\" class=\"dataframe\">\n",
       "  <thead>\n",
       "    <tr style=\"text-align: right;\">\n",
       "      <th></th>\n",
       "      <th>Unnamed: 0</th>\n",
       "      <th>Make_Year</th>\n",
       "      <th>Mileage_Run</th>\n",
       "      <th>Seating_Capacity</th>\n",
       "      <th>Price</th>\n",
       "      <th>age</th>\n",
       "      <th>price_ihs</th>\n",
       "      <th>age_ihs</th>\n",
       "    </tr>\n",
       "  </thead>\n",
       "  <tbody>\n",
       "    <tr>\n",
       "      <th>count</th>\n",
       "      <td>960.000000</td>\n",
       "      <td>960.000000</td>\n",
       "      <td>960.000000</td>\n",
       "      <td>960.0</td>\n",
       "      <td>9.600000e+02</td>\n",
       "      <td>960.000000</td>\n",
       "      <td>960.000000</td>\n",
       "      <td>960.000000</td>\n",
       "    </tr>\n",
       "    <tr>\n",
       "      <th>mean</th>\n",
       "      <td>491.894792</td>\n",
       "      <td>2016.891667</td>\n",
       "      <td>42111.321875</td>\n",
       "      <td>5.0</td>\n",
       "      <td>7.204990e+05</td>\n",
       "      <td>5.108333</td>\n",
       "      <td>14.101029</td>\n",
       "      <td>2.174949</td>\n",
       "    </tr>\n",
       "    <tr>\n",
       "      <th>std</th>\n",
       "      <td>280.553859</td>\n",
       "      <td>2.771585</td>\n",
       "      <td>24208.253958</td>\n",
       "      <td>0.0</td>\n",
       "      <td>3.123036e+05</td>\n",
       "      <td>2.771585</td>\n",
       "      <td>0.448406</td>\n",
       "      <td>0.604688</td>\n",
       "    </tr>\n",
       "    <tr>\n",
       "      <th>min</th>\n",
       "      <td>1.000000</td>\n",
       "      <td>2011.000000</td>\n",
       "      <td>1117.000000</td>\n",
       "      <td>5.0</td>\n",
       "      <td>2.370000e+05</td>\n",
       "      <td>1.000000</td>\n",
       "      <td>13.068963</td>\n",
       "      <td>0.881374</td>\n",
       "    </tr>\n",
       "    <tr>\n",
       "      <th>25%</th>\n",
       "      <td>250.750000</td>\n",
       "      <td>2015.000000</td>\n",
       "      <td>23203.750000</td>\n",
       "      <td>5.0</td>\n",
       "      <td>4.717500e+05</td>\n",
       "      <td>3.000000</td>\n",
       "      <td>13.757351</td>\n",
       "      <td>1.818446</td>\n",
       "    </tr>\n",
       "    <tr>\n",
       "      <th>50%</th>\n",
       "      <td>493.500000</td>\n",
       "      <td>2017.000000</td>\n",
       "      <td>38151.500000</td>\n",
       "      <td>5.0</td>\n",
       "      <td>6.615000e+05</td>\n",
       "      <td>5.000000</td>\n",
       "      <td>14.095412</td>\n",
       "      <td>2.312438</td>\n",
       "    </tr>\n",
       "    <tr>\n",
       "      <th>75%</th>\n",
       "      <td>734.250000</td>\n",
       "      <td>2019.000000</td>\n",
       "      <td>58192.000000</td>\n",
       "      <td>5.0</td>\n",
       "      <td>8.822500e+05</td>\n",
       "      <td>7.000000</td>\n",
       "      <td>14.383378</td>\n",
       "      <td>2.644121</td>\n",
       "    </tr>\n",
       "    <tr>\n",
       "      <th>max</th>\n",
       "      <td>976.000000</td>\n",
       "      <td>2021.000000</td>\n",
       "      <td>99495.000000</td>\n",
       "      <td>5.0</td>\n",
       "      <td>1.498000e+06</td>\n",
       "      <td>11.000000</td>\n",
       "      <td>15.250595</td>\n",
       "      <td>3.093102</td>\n",
       "    </tr>\n",
       "  </tbody>\n",
       "</table>\n",
       "</div>"
      ],
      "text/plain": [
       "       Unnamed: 0    Make_Year   Mileage_Run  Seating_Capacity         Price  \\\n",
       "count  960.000000   960.000000    960.000000             960.0  9.600000e+02   \n",
       "mean   491.894792  2016.891667  42111.321875               5.0  7.204990e+05   \n",
       "std    280.553859     2.771585  24208.253958               0.0  3.123036e+05   \n",
       "min      1.000000  2011.000000   1117.000000               5.0  2.370000e+05   \n",
       "25%    250.750000  2015.000000  23203.750000               5.0  4.717500e+05   \n",
       "50%    493.500000  2017.000000  38151.500000               5.0  6.615000e+05   \n",
       "75%    734.250000  2019.000000  58192.000000               5.0  8.822500e+05   \n",
       "max    976.000000  2021.000000  99495.000000               5.0  1.498000e+06   \n",
       "\n",
       "              age   price_ihs     age_ihs  \n",
       "count  960.000000  960.000000  960.000000  \n",
       "mean     5.108333   14.101029    2.174949  \n",
       "std      2.771585    0.448406    0.604688  \n",
       "min      1.000000   13.068963    0.881374  \n",
       "25%      3.000000   13.757351    1.818446  \n",
       "50%      5.000000   14.095412    2.312438  \n",
       "75%      7.000000   14.383378    2.644121  \n",
       "max     11.000000   15.250595    3.093102  "
      ]
     },
     "execution_count": 17,
     "metadata": {},
     "output_type": "execute_result"
    },
    {
     "data": {
      "image/png": "[encoded data removed]",
      "text/plain": [
       "<Figure size 432x288 with 1 Axes>"
      ]
     },
     "metadata": {
      "needs_background": "light"
     },
     "output_type": "display_data"
    }
   ],
   "source": [
    "def windsorize(x):\n",
    "    # Compute IQR and 1st,3rd quantiles\n",
    "    pct25, pct75 = np.percentile(x,[25,75])\n",
    "    iqr = pct75 - pct25\n",
    "    # Compute whiskers:\n",
    "    lower_whisker = pct25 - iqr*1.5\n",
    "    upper_whisker = pct75 + iqr*1.5\n",
    "    # Windsorize x:\n",
    "    x_windsor = x\n",
    "    x_windsor[ x < lower_whisker ] = lower_whisker\n",
    "    x_windsor[ x > upper_whisker ] = upper_whisker\n",
    "    return(x_windsor)\n",
    "\n",
    "X.apply(windsorize)\n",
    "X.plot.box()\n",
    "\n",
    "X.describe()"
   ]
  },
  {
   "cell_type": "code",
   "execution_count": 18,
   "metadata": {},
   "outputs": [
    {
     "data": {
      "image/png": "[encoded data removed]",
      "text/plain": [
       "<Figure size 432x288 with 1 Axes>"
      ]
     },
     "metadata": {
      "needs_background": "light"
     },
     "output_type": "display_data"
    }
   ],
   "source": [
    "# Q1 part 4:\n",
    "\n",
    "from sklearn.neighbors import KNeighborsRegressor\n",
    "\n",
    "# Maxmin normalization function:\n",
    "def maxmin(z):\n",
    "    z = (z-min(z))/(max(z)-min(z))\n",
    "    return(z)\n",
    "\n",
    "# Apply maxmin to each column of X:\n",
    "X_train_knn = X_train.apply(maxmin)\n",
    "X_test_knn = X_test.apply(maxmin)\n",
    "\n",
    "# Determine optimal k:\n",
    "k_bar = 70\n",
    "k_grid = np.arange(1,k_bar) # The range of k's to consider\n",
    "SSE = np.zeros(k_bar-1) # For comparison purposes, store the training error\n",
    "for k in range(k_bar-1):\n",
    "    model = KNeighborsRegressor(n_neighbors=k+1) # Create a sk model for k\n",
    "    fitted_model = model.fit(X_train_knn,y_train) # Train the model on our data\n",
    "    y_hat = fitted_model.predict(X_test_knn) # Predict values for test set\n",
    "    SSE[k] = np.sum( (y_test-y_hat)**2 ) # Save the computed SSE\n",
    "SSE_min = np.min(SSE) # Lowest recorded SSE\n",
    "min_index = np.where(SSE==SSE_min) # Find the indices of y that equal the minimum\n",
    "k_star = k_grid[min_index][0] # Find the optimal value of k\n",
    "\n",
    "## SSE plot:\n",
    "plt.plot(k_grid,SSE)\n",
    "plt.xlabel(\"k\")\n",
    "plt.ylabel(\"SSE\")\n",
    "plt.title('SSE')\n",
    "plt.show()\n"
   ]
  },
  {
   "cell_type": "code",
   "execution_count": 19,
   "metadata": {},
   "outputs": [],
   "source": [
    "## Fit optimal model:\n",
    "model = KNeighborsRegressor(n_neighbors=max(3,k_star))\n",
    "knn_star = model.fit(X_train_knn,y_train)\n",
    "y_hat_knn = knn_star.predict(X_test_knn)\n",
    "residuals_knn = y_test - y_hat_knn"
   ]
  },
  {
   "cell_type": "code",
   "execution_count": 20,
   "metadata": {},
   "outputs": [
    {
     "name": "stdout",
     "output_type": "stream",
     "text": [
      "71522.32719254203 \n",
      "\n",
      "0.9663973106923196 \n",
      "\n"
     ]
    }
   ],
   "source": [
    "## Metrics:\n",
    "SSE_knn = np.sum( (y_test-y_hat_knn)**2 )\n",
    "\n",
    "MSE_knn = SSE_knn/N_test\n",
    "\n",
    "RMSE_knn = (SSE_knn/N_test)**(1/2)\n",
    "print(RMSE_knn, '\\n')\n",
    "R2_knn = 1 - SSE_knn/TSS\n",
    "print(R2_knn, '\\n')"
   ]
  },
  {
   "cell_type": "code",
   "execution_count": 21,
   "metadata": {},
   "outputs": [],
   "source": [
    "# The R^2 and RMSE on the test set are 0.966 and 71522 respectively. This is a very high RMSE value, which I assume\n",
    "# because a lot of the numeric variables are very different in magnitude from each other."
   ]
  },
  {
   "cell_type": "code",
   "execution_count": 22,
   "metadata": {},
   "outputs": [
    {
     "data": {
      "text/html": [
       "<div>\n",
       "<style scoped>\n",
       "    .dataframe tbody tr th:only-of-type {\n",
       "        vertical-align: middle;\n",
       "    }\n",
       "\n",
       "    .dataframe tbody tr th {\n",
       "        vertical-align: top;\n",
       "    }\n",
       "\n",
       "    .dataframe thead th {\n",
       "        text-align: right;\n",
       "    }\n",
       "</style>\n",
       "<table border=\"1\" class=\"dataframe\">\n",
       "  <thead>\n",
       "    <tr style=\"text-align: right;\">\n",
       "      <th></th>\n",
       "      <th>Body_Type_crossover</th>\n",
       "      <th>Body_Type_hatchback</th>\n",
       "      <th>Body_Type_muv</th>\n",
       "      <th>Body_Type_sedan</th>\n",
       "      <th>Body_Type_suv</th>\n",
       "    </tr>\n",
       "  </thead>\n",
       "  <tbody>\n",
       "    <tr>\n",
       "      <th>0</th>\n",
       "      <td>0</td>\n",
       "      <td>0</td>\n",
       "      <td>0</td>\n",
       "      <td>1</td>\n",
       "      <td>0</td>\n",
       "    </tr>\n",
       "    <tr>\n",
       "      <th>1</th>\n",
       "      <td>1</td>\n",
       "      <td>0</td>\n",
       "      <td>0</td>\n",
       "      <td>0</td>\n",
       "      <td>0</td>\n",
       "    </tr>\n",
       "    <tr>\n",
       "      <th>2</th>\n",
       "      <td>0</td>\n",
       "      <td>0</td>\n",
       "      <td>0</td>\n",
       "      <td>0</td>\n",
       "      <td>1</td>\n",
       "    </tr>\n",
       "    <tr>\n",
       "      <th>3</th>\n",
       "      <td>0</td>\n",
       "      <td>1</td>\n",
       "      <td>0</td>\n",
       "      <td>0</td>\n",
       "      <td>0</td>\n",
       "    </tr>\n",
       "    <tr>\n",
       "      <th>4</th>\n",
       "      <td>0</td>\n",
       "      <td>1</td>\n",
       "      <td>0</td>\n",
       "      <td>0</td>\n",
       "      <td>0</td>\n",
       "    </tr>\n",
       "  </tbody>\n",
       "</table>\n",
       "</div>"
      ],
      "text/plain": [
       "   Body_Type_crossover  Body_Type_hatchback  Body_Type_muv  Body_Type_sedan  \\\n",
       "0                    0                    0              0                1   \n",
       "1                    1                    0              0                0   \n",
       "2                    0                    0              0                0   \n",
       "3                    0                    1              0                0   \n",
       "4                    0                    1              0                0   \n",
       "\n",
       "   Body_Type_suv  \n",
       "0              0  \n",
       "1              0  \n",
       "2              1  \n",
       "3              0  \n",
       "4              0  "
      ]
     },
     "execution_count": 22,
     "metadata": {},
     "output_type": "execute_result"
    }
   ],
   "source": [
    "# Now I will repeat this entire process with the categorical variables\n",
    "\n",
    "# X = df.drop('Unnamed: 0',axis=1).drop('Make_Year',axis=1).drop('Mileage_Run',axis=1).drop('Seating_Capacity',axis=1).drop('Price',axis=1).drop('age',axis=1).drop('price_ihs',axis=1).drop('age_ihs',axis=1)\n",
    "# selected_columns = ['Make', 'Body_Type', 'Fuel_Type']\n",
    "selected_columns = ['Body_Type']\n",
    "X = df[selected_columns]\n",
    "\n",
    "y = df['Price'] # Create target variable vector\n",
    "\n",
    "# This time I am creating a feature matrix with categorical values by using one-hot enconder\n",
    "ddf = pd.get_dummies(X,dtype='int')\n",
    "X=ddf\n",
    "X.head()"
   ]
  },
  {
   "cell_type": "code",
   "execution_count": 23,
   "metadata": {},
   "outputs": [],
   "source": [
    "## Test-train split\n",
    "from sklearn.model_selection import train_test_split\n",
    "X_train, X_test, y_train, y_test = train_test_split(X, y, test_size=0.2, random_state=50)\n",
    "TSS = np.sum( (y_test - y_train.mean())**2 )\n",
    "N_test = len(y_test)"
   ]
  },
  {
   "cell_type": "code",
   "execution_count": 24,
   "metadata": {},
   "outputs": [
    {
     "data": {
      "text/plain": [
       "<AxesSubplot:>"
      ]
     },
     "execution_count": 24,
     "metadata": {},
     "output_type": "execute_result"
    },
    {
     "data": {
      "image/png": "[encoded data removed]",
      "text/plain": [
       "<Figure size 432x288 with 1 Axes>"
      ]
     },
     "metadata": {
      "needs_background": "light"
     },
     "output_type": "display_data"
    }
   ],
   "source": [
    "X.plot.box()"
   ]
  },
  {
   "cell_type": "code",
   "execution_count": 25,
   "metadata": {},
   "outputs": [
    {
     "data": {
      "text/plain": [
       "<AxesSubplot:>"
      ]
     },
     "execution_count": 25,
     "metadata": {},
     "output_type": "execute_result"
    },
    {
     "data": {
      "image/png": "[encoded data removed]",
      "text/plain": [
       "<Figure size 432x288 with 1 Axes>"
      ]
     },
     "metadata": {
      "needs_background": "light"
     },
     "output_type": "display_data"
    }
   ],
   "source": [
    "def windsorize(x):\n",
    "    # Compute IQR and 1st,3rd quantiles\n",
    "    pct25, pct75 = np.percentile(x,[25,75])\n",
    "    iqr = pct75 - pct25\n",
    "    # Compute whiskers:\n",
    "    lower_whisker = pct25 - iqr*1.5\n",
    "    upper_whisker = pct75 + iqr*1.5\n",
    "    # Windsorize x:\n",
    "    x_windsor = x\n",
    "    x_windsor[ x < lower_whisker ] = lower_whisker\n",
    "    x_windsor[ x > upper_whisker ] = upper_whisker\n",
    "    return(x_windsor)\n",
    "\n",
    "X.apply(windsorize)\n",
    "X.plot.box()"
   ]
  },
  {
   "cell_type": "code",
   "execution_count": 26,
   "metadata": {},
   "outputs": [
    {
     "data": {
      "image/png": "[encoded data removed]",
      "text/plain": [
       "<Figure size 432x288 with 1 Axes>"
      ]
     },
     "metadata": {
      "needs_background": "light"
     },
     "output_type": "display_data"
    }
   ],
   "source": [
    "from sklearn.neighbors import KNeighborsRegressor\n",
    "\n",
    "# Maxmin normalization function:\n",
    "def maxmin(z):\n",
    "    z = (z-min(z))/(max(z)-min(z))\n",
    "    return(z)\n",
    "\n",
    "# Apply maxmin to each column of X:\n",
    "X_train_knn = X_train.apply(maxmin)\n",
    "X_test_knn = X_test.apply(maxmin)\n",
    "\n",
    "# Determine optimal k:\n",
    "k_bar = 70\n",
    "k_grid = np.arange(1,k_bar) # The range of k's to consider\n",
    "SSE = np.zeros(k_bar-1) # For comparison purposes, store the training error\n",
    "for k in range(k_bar-1):\n",
    "    model = KNeighborsRegressor(n_neighbors=k+1) # Create a sk model for k\n",
    "    fitted_model = model.fit(X_train_knn,y_train) # Train the model on our data\n",
    "    y_hat = fitted_model.predict(X_test_knn) # Predict values for test set\n",
    "    SSE[k] = np.sum( (y_test-y_hat)**2 ) # Save the computed SSE\n",
    "SSE_min = np.min(SSE) # Lowest recorded SSE\n",
    "min_index = np.where(SSE==SSE_min) # Find the indices of y that equal the minimum\n",
    "k_star = k_grid[min_index][0] # Find the optimal value of k\n",
    "\n",
    "## SSE plot:\n",
    "plt.plot(k_grid,SSE)\n",
    "plt.xlabel(\"k\")\n",
    "plt.ylabel(\"SSE\")\n",
    "plt.title('SSE')\n",
    "plt.show()\n"
   ]
  },
  {
   "cell_type": "code",
   "execution_count": 27,
   "metadata": {},
   "outputs": [],
   "source": [
    "## Fit optimal model:\n",
    "model = KNeighborsRegressor(n_neighbors=max(3,k_star))\n",
    "knn_star = model.fit(X_train_knn,y_train)\n",
    "y_hat_knn = knn_star.predict(X_test_knn)\n",
    "residuals_knn = y_test - y_hat_knn"
   ]
  },
  {
   "cell_type": "code",
   "execution_count": 28,
   "metadata": {},
   "outputs": [
    {
     "name": "stdout",
     "output_type": "stream",
     "text": [
      "275019.9048725482 \n",
      "\n",
      "0.5031571808969568 \n",
      "\n"
     ]
    }
   ],
   "source": [
    "## Metrics:\n",
    "SSE_knn = np.sum( (y_test-y_hat_knn)**2 )\n",
    "\n",
    "MSE_knn = SSE_knn/N_test\n",
    "\n",
    "RMSE_knn = (SSE_knn/N_test)**(1/2)\n",
    "print(RMSE_knn, '\\n')\n",
    "R2_knn = 1 - SSE_knn/TSS\n",
    "print(R2_knn, '\\n')"
   ]
  },
  {
   "cell_type": "code",
   "execution_count": 29,
   "metadata": {},
   "outputs": [],
   "source": [
    "# Here my R^2 and RMSE values are 0.5 and 275019 respectively, which is pretty bad... When I was running this model\n",
    "#, I came across a lot of problems. The main problem was that after creating dummy variables for all the categorical\n",
    "# variables, it was too much for the optimal k for loop. Thus, I ended up just using the most 'user-friendly' categorical\n",
    "# variable: 'Body Type'. This variable was simple enough for the computer to handle, and I was able to regress the model\n",
    "# compute the R^2 and RMSE values."
   ]
  },
  {
   "cell_type": "code",
   "execution_count": 30,
   "metadata": {},
   "outputs": [],
   "source": [
    "# Based on the RMSE values that I got from my numeric and categorical models, I think it's safe to say that\n",
    "# the better performing model is the numeric model. The most logical reason behind this is the sklearn is built of\n",
    "# using integers, so numeric variables that are already int types make the model run more effectively. Even though I\n",
    "# changed the categorical variable Body_Type into a dummy variable, it isn't as cohesive for sklearn compared to the numeric\n",
    "# model."
   ]
  },
  {
   "cell_type": "code",
   "execution_count": 205,
   "metadata": {},
   "outputs": [
    {
     "name": "stdout",
     "output_type": "stream",
     "text": [
      "0.004418239009627898 \n",
      "\n",
      "0.9999999999999999 \n",
      "\n"
     ]
    }
   ],
   "source": [
    "# Q1 part 5\n",
    "from sklearn.linear_model import LinearRegression # Import linear regression model\n",
    "from sklearn.preprocessing import PolynomialFeatures\n",
    "\n",
    "\n",
    "# Getting the numerica dataframe again:\n",
    "\n",
    "y = df['Price'] # Create target variable vector\n",
    "\n",
    "# Create feature matrix with numeric variables only\n",
    "X = df.drop('Make',axis=1).drop('Color',axis=1).drop('Body_Type',axis=1).drop('No_of_Owners',axis=1).drop('Fuel_Type',axis=1).drop('Transmission',axis=1).drop('Transmission_Type',axis=1)\n",
    "\n",
    "from sklearn.model_selection import train_test_split\n",
    "X_train, X_test, y_train, y_test = train_test_split(X, y, test_size=0.2, random_state=50)\n",
    "TSS = np.sum( (y_test - y_train.mean())**2 )\n",
    "N_test = len(y_test)\n",
    "\n",
    "X.apply(windsorize)\n",
    "\n",
    "\n",
    "# PolynomialFeatures function with the numerical variables\n",
    "expander = PolynomialFeatures(degree=3,include_bias=False) # Create the expander\n",
    "#\n",
    "# Z_train = expander.fit_transform(X_train) # Pass the df into the expander to get powers/interactions of x and y\n",
    "# names = expander.get_feature_names_out() # Get the names of these variables\n",
    "X_train_lm = expander.fit_transform(X_train) # Create a new, expanded dataframe\n",
    "#\n",
    "# Z_test = expander.fit_transform(X_test) # Pass the df into the expander to get powers/interactions of x and y\n",
    "# names = expander.get_feature_names_out() # Get the names of these variables\n",
    "X_test_lm = expander.fit_transform(X_test) # Create a new, expanded dataframe\n",
    "\n",
    "# Fit the model and get the R2 measure:\n",
    "reg = LinearRegression().fit(X_train_lm, y_train) # Fit the linear model\n",
    "\n",
    "# Predicted values:\n",
    "y_hat_lm = reg.predict(X_test_lm)\n",
    "residuals_lm = y_test - y_hat_lm\n",
    "\n",
    "## Metrics:\n",
    "SSE_lm = np.sum( (y_test-y_hat_lm)**2 )\n",
    "MSE_lm = SSE_lm/N_test\n",
    "RMSE_lm = (SSE_lm/N_test)**(1/2)\n",
    "print(RMSE_lm,'\\n')\n",
    "R2_lm = 1 - SSE_lm/TSS\n",
    "print(R2_lm,'\\n')"
   ]
  },
  {
   "cell_type": "code",
   "execution_count": 206,
   "metadata": {},
   "outputs": [],
   "source": [
    "# After using the polynomial expander on the numeric variables, my RMSE and R^2 values got a lot better,\n",
    "# being 0.004 and 0.999 respectively. As I increase the degree of expansion from 3 to 4, the RMSE value\n",
    "# increases to 8.9 while the the R^2 value increases slightly.However, if I decrease the degree of expansion \n",
    "# from 3 to 2, the RMSE value becomes negative. R^2 becomes negative at degree 10\n",
    "\n",
    "# When I compare the best expander model (with degree 3) to my best original numeric model, I see a massive\n",
    "# amount of improvement in the data."
   ]
  },
  {
   "cell_type": "code",
   "execution_count": 207,
   "metadata": {},
   "outputs": [
    {
     "data": {
      "image/png": "[encoded data removed]",
      "text/plain": [
       "<Figure size 432x288 with 1 Axes>"
      ]
     },
     "metadata": {
      "needs_background": "light"
     },
     "output_type": "display_data"
    },
    {
     "data": {
      "image/png": "[encoded data removed]",
      "text/plain": [
       "<Figure size 432x288 with 1 Axes>"
      ]
     },
     "metadata": {
      "needs_background": "light"
     },
     "output_type": "display_data"
    }
   ],
   "source": [
    "# Q1 part 6:\n",
    "\n",
    "# Fit the model and get the R2 measure:\n",
    "reg = LinearRegression().fit(X_train_lm, y_train) # Fit the linear model\n",
    "\n",
    "# Predicted values:\n",
    "y_hat_lm = reg.predict(X_test_lm)\n",
    "residuals_lm = y_test - y_hat_lm\n",
    "\n",
    "## Residual plot:\n",
    "sns.kdeplot(residuals_lm)\n",
    "plt.show()\n",
    "\n",
    "## True versus predicted plot:\n",
    "plt.scatter(x=y_hat_lm,y=y_test)\n",
    "plt.title('Predicted vs. Actual Values')\n",
    "plt.show()"
   ]
  },
  {
   "cell_type": "code",
   "execution_count": 208,
   "metadata": {},
   "outputs": [],
   "source": [
    "# In general, these the plots of the residuals and predicted vs. actual values look\n",
    "# decent. I noticed that for the residuals of price, even though the bell curve is around\n",
    "# 0, there is a lot of skew-left values, particularly negative. This is a bit weird and I'm\n",
    "# not entirely sure what this signifies."
   ]
  },
  {
   "cell_type": "code",
   "execution_count": 209,
   "metadata": {},
   "outputs": [
    {
     "data": {
      "image/png": "[encoded data removed]",
      "text/plain": [
       "<Figure size 432x288 with 1 Axes>"
      ]
     },
     "metadata": {
      "needs_background": "light"
     },
     "output_type": "display_data"
    },
    {
     "name": "stdout",
     "output_type": "stream",
     "text": [
      "4734.074179111828 \n",
      "\n",
      "0.9998527820114407 \n",
      "\n"
     ]
    }
   ],
   "source": [
    "# Q1 part 7:\n",
    "\n",
    "from sklearn import tree \n",
    "\n",
    "model = tree.DecisionTreeRegressor(max_depth=20) # Fit the classifier\n",
    "cart = model.fit(X_train, y_train)\n",
    "tree.plot_tree(cart,filled=True) \n",
    "plt.show()\n",
    "\n",
    "## Make Predictions on the Test Set\n",
    "y_hat_cart = cart.predict(X_test)\n",
    "residuals_cart = y_test - y_hat_cart\n",
    "\n",
    "\n",
    "## Metrics:\n",
    "SSE_cart = np.sum( (y_test-y_hat_cart)**2 )\n",
    "MSE_cart = (1/N_test)*np.sum( (y_test-y_hat_cart)**2 )\n",
    "RMSE_cart = (SSE_cart/N_test)**(1/2)\n",
    "print(RMSE_cart,'\\n')\n",
    "R2_cart = 1 - SSE_cart/TSS\n",
    "print(R2_cart,'\\n')"
   ]
  },
  {
   "cell_type": "code",
   "execution_count": 210,
   "metadata": {},
   "outputs": [],
   "source": [
    "# When using the tree of depth 10, my RMSE and R^2 values respectively are 6221 and 0.9997. When I increased the\n",
    "# depth to 15, the RMSE value decreases to 4503 and the R^2 value increases slightly. When increases the depth to 20,\n",
    "# the RMSE value decreases to 4287."
   ]
  },
  {
   "cell_type": "code",
   "execution_count": 211,
   "metadata": {},
   "outputs": [
    {
     "data": {
      "image/png": "[encoded data removed]",
      "text/plain": [
       "<Figure size 432x288 with 1 Axes>"
      ]
     },
     "metadata": {
      "needs_background": "light"
     },
     "output_type": "display_data"
    },
    {
     "data": {
      "image/png": "[encoded data removed]",
      "text/plain": [
       "<Figure size 432x288 with 1 Axes>"
      ]
     },
     "metadata": {
      "needs_background": "light"
     },
     "output_type": "display_data"
    }
   ],
   "source": [
    "# Q1 part 8:\n",
    "\n",
    "## Residual plot:\n",
    "sns.kdeplot(residuals_cart)\n",
    "plt.show()\n",
    "\n",
    "## True versus predicted plot:\n",
    "plt.scatter(x=y_hat_cart,y=y_test)\n",
    "plt.title('Predicted vs. Actual Values')\n",
    "plt.show()"
   ]
  },
  {
   "cell_type": "code",
   "execution_count": 212,
   "metadata": {},
   "outputs": [],
   "source": [
    "# The residual data looks roughly bell-shaped around 0"
   ]
  },
  {
   "cell_type": "code",
   "execution_count": 213,
   "metadata": {},
   "outputs": [],
   "source": [
    "# Q1 part 9:\n",
    "\n",
    "# When comparing the linear model versus tree, I would say that the linear model has a better\n",
    "# performance on the test set because the RMSE value is a lot lower. This means that model's predictions\n",
    "# were closer to the actual value."
   ]
  },
  {
   "cell_type": "markdown",
   "metadata": {},
   "source": [
    "Based on the data, I can see that the most expensive car brands are MG Motors, Kia, and Jeep.\n",
    "In general, prices are average out at 7.380156e+05"
   ]
  },
  {
   "cell_type": "markdown",
   "metadata": {},
   "source": [
    "**Q2.** The is a question about regression using decision trees and linear models. The data include wages at data science-y jobs, including\n",
    "\n",
    "  - `Rating`: Company worker happiness score\n",
    "  - `Size`: Number of employees\n",
    "  - `Sector`: Part of the economy\n",
    "  - `avg_salary`: Average wage\n",
    "  - `job_state`: Location of work\n",
    "\n",
    "  1. Load the `wages_hw.csv` file. Split the sample into an ~80% training set and a ~20% test set. Do any necessary cleaning, including outliers and missings.\n",
    "  2. Use a linear model to regress `avg_salary` on `Sector`. Which sectors have the highest predicted wages? What is the $R^2$ and `RMSE` on the test set? \n",
    "  3. Make a scatterplot of `avg_salary` and `Rating`. Is there an obvious visual relationship between the two variables? Regress `avg_salary` on `Rating` as a numeric variable: Do higher ratings predict higher or lower wages? Convert `Rating` to a one-hot encoded variable, with a category for each rating. Run a regression of `avg_salary` on the categorical version. How do your results change? Explain. Which version has a higher $R^2$ and lower `RMSE`?\n",
    "  4. Now interact `Sector` with the categorical version of `Rating`, so your regressors are a (Sector, Rating) pair; this is a programming puzzle you'll have to think about, but using the `.PolynomialFeatures()` function on the one-hot encoded categorical variables is one option, and another is pre-processing a new variable that interacts `Sector` and `Rating` and then one-hot encoding the result. Regress `avg_salary` on the (Sector, Rating) pairs. How does the $R^2$ and `RMSE` on the test set compare to part 2? Interpret the coefficients; which sector-rating pairs have the highest wages?\n",
    "  5. Run a linear regression of `avg_salary` on all the variables. What is the $R^2$ on the test set? How does it compare to your simpler models in 2--4? \n",
    "  6. Build a decision tree by regressing `avg_salary` on `Sector`, `Rating`, and the (Sector, Rating) pairs. What are the $R^2$ and `RMSE` of your models on the test set? How do your answers compare to parts 2, 3, and 4?\n",
    "  7. Build a decision tree by regressing `avg_salary` on all the other variables. What is the $R^2$ and `RMSE` on the test set?\n",
    "  8. Build a linear regression or decision tree using the available variables based on your own judgment. What degrees of freedom are you giving the model to predict variation in wages across company and location attributes? What is the $R^2$ and `RMSE` of your model? How does it compare to the previous ones in the question? Why does yours perform better or worse on the test set?"
   ]
  },
  {
   "cell_type": "code",
   "execution_count": 31,
   "metadata": {},
   "outputs": [
    {
     "data": {
      "text/html": [
       "<div>\n",
       "<style scoped>\n",
       "    .dataframe tbody tr th:only-of-type {\n",
       "        vertical-align: middle;\n",
       "    }\n",
       "\n",
       "    .dataframe tbody tr th {\n",
       "        vertical-align: top;\n",
       "    }\n",
       "\n",
       "    .dataframe thead th {\n",
       "        text-align: right;\n",
       "    }\n",
       "</style>\n",
       "<table border=\"1\" class=\"dataframe\">\n",
       "  <thead>\n",
       "    <tr style=\"text-align: right;\">\n",
       "      <th></th>\n",
       "      <th>Unnamed: 0</th>\n",
       "      <th>Rating</th>\n",
       "      <th>Size</th>\n",
       "      <th>Sector</th>\n",
       "      <th>avg_salary</th>\n",
       "      <th>job_state</th>\n",
       "    </tr>\n",
       "  </thead>\n",
       "  <tbody>\n",
       "    <tr>\n",
       "      <th>0</th>\n",
       "      <td>1</td>\n",
       "      <td>3.8</td>\n",
       "      <td>501 to 1000 employees</td>\n",
       "      <td>Aerospace &amp; Defense</td>\n",
       "      <td>72.0</td>\n",
       "      <td>NM</td>\n",
       "    </tr>\n",
       "    <tr>\n",
       "      <th>1</th>\n",
       "      <td>2</td>\n",
       "      <td>3.4</td>\n",
       "      <td>10000+ employees</td>\n",
       "      <td>Health Care</td>\n",
       "      <td>87.5</td>\n",
       "      <td>MD</td>\n",
       "    </tr>\n",
       "    <tr>\n",
       "      <th>2</th>\n",
       "      <td>3</td>\n",
       "      <td>4.8</td>\n",
       "      <td>501 to 1000 employees</td>\n",
       "      <td>Business Services</td>\n",
       "      <td>85.0</td>\n",
       "      <td>FL</td>\n",
       "    </tr>\n",
       "    <tr>\n",
       "      <th>3</th>\n",
       "      <td>4</td>\n",
       "      <td>3.8</td>\n",
       "      <td>1001 to 5000 employees</td>\n",
       "      <td>Oil, Gas, Energy &amp; Utilities</td>\n",
       "      <td>76.5</td>\n",
       "      <td>WA</td>\n",
       "    </tr>\n",
       "    <tr>\n",
       "      <th>4</th>\n",
       "      <td>5</td>\n",
       "      <td>2.9</td>\n",
       "      <td>51 to 200 employees</td>\n",
       "      <td>Business Services</td>\n",
       "      <td>114.5</td>\n",
       "      <td>NY</td>\n",
       "    </tr>\n",
       "  </tbody>\n",
       "</table>\n",
       "</div>"
      ],
      "text/plain": [
       "   Unnamed: 0  Rating                    Size                        Sector  \\\n",
       "0           1     3.8   501 to 1000 employees           Aerospace & Defense   \n",
       "1           2     3.4        10000+ employees                   Health Care   \n",
       "2           3     4.8   501 to 1000 employees             Business Services   \n",
       "3           4     3.8  1001 to 5000 employees  Oil, Gas, Energy & Utilities   \n",
       "4           5     2.9     51 to 200 employees             Business Services   \n",
       "\n",
       "   avg_salary job_state  \n",
       "0        72.0        NM  \n",
       "1        87.5        MD  \n",
       "2        85.0        FL  \n",
       "3        76.5        WA  \n",
       "4       114.5        NY  "
      ]
     },
     "execution_count": 31,
     "metadata": {},
     "output_type": "execute_result"
    }
   ],
   "source": [
    "# Q2 part 1:\n",
    "df = pd.read_csv('./data/wages_hw.csv')\n",
    "df.head()"
   ]
  },
  {
   "cell_type": "code",
   "execution_count": 32,
   "metadata": {},
   "outputs": [
    {
     "data": {
      "text/html": [
       "<div>\n",
       "<style scoped>\n",
       "    .dataframe tbody tr th:only-of-type {\n",
       "        vertical-align: middle;\n",
       "    }\n",
       "\n",
       "    .dataframe tbody tr th {\n",
       "        vertical-align: top;\n",
       "    }\n",
       "\n",
       "    .dataframe thead th {\n",
       "        text-align: right;\n",
       "    }\n",
       "</style>\n",
       "<table border=\"1\" class=\"dataframe\">\n",
       "  <thead>\n",
       "    <tr style=\"text-align: right;\">\n",
       "      <th></th>\n",
       "      <th>Unnamed: 0</th>\n",
       "      <th>Rating</th>\n",
       "      <th>avg_salary</th>\n",
       "      <th>Size_10000+ employees</th>\n",
       "      <th>Size_1001 to 5000 employees</th>\n",
       "      <th>Size_201 to 500 employees</th>\n",
       "      <th>Size_5001 to 10000 employees</th>\n",
       "      <th>Size_501 to 1000 employees</th>\n",
       "      <th>Size_51 to 200 employees</th>\n",
       "      <th>Size_Unknown</th>\n",
       "      <th>...</th>\n",
       "      <th>job_state_ OR</th>\n",
       "      <th>job_state_ PA</th>\n",
       "      <th>job_state_ RI</th>\n",
       "      <th>job_state_ SC</th>\n",
       "      <th>job_state_ TN</th>\n",
       "      <th>job_state_ TX</th>\n",
       "      <th>job_state_ UT</th>\n",
       "      <th>job_state_ VA</th>\n",
       "      <th>job_state_ WA</th>\n",
       "      <th>job_state_ WI</th>\n",
       "    </tr>\n",
       "  </thead>\n",
       "  <tbody>\n",
       "    <tr>\n",
       "      <th>0</th>\n",
       "      <td>1</td>\n",
       "      <td>3.8</td>\n",
       "      <td>72.0</td>\n",
       "      <td>0.0</td>\n",
       "      <td>0.0</td>\n",
       "      <td>0.0</td>\n",
       "      <td>0.0</td>\n",
       "      <td>1.0</td>\n",
       "      <td>0.0</td>\n",
       "      <td>0.0</td>\n",
       "      <td>...</td>\n",
       "      <td>0.0</td>\n",
       "      <td>0.0</td>\n",
       "      <td>0.0</td>\n",
       "      <td>0.0</td>\n",
       "      <td>0.0</td>\n",
       "      <td>0.0</td>\n",
       "      <td>0.0</td>\n",
       "      <td>0.0</td>\n",
       "      <td>0.0</td>\n",
       "      <td>0.0</td>\n",
       "    </tr>\n",
       "    <tr>\n",
       "      <th>1</th>\n",
       "      <td>2</td>\n",
       "      <td>3.4</td>\n",
       "      <td>87.5</td>\n",
       "      <td>1.0</td>\n",
       "      <td>0.0</td>\n",
       "      <td>0.0</td>\n",
       "      <td>0.0</td>\n",
       "      <td>0.0</td>\n",
       "      <td>0.0</td>\n",
       "      <td>0.0</td>\n",
       "      <td>...</td>\n",
       "      <td>0.0</td>\n",
       "      <td>0.0</td>\n",
       "      <td>0.0</td>\n",
       "      <td>0.0</td>\n",
       "      <td>0.0</td>\n",
       "      <td>0.0</td>\n",
       "      <td>0.0</td>\n",
       "      <td>0.0</td>\n",
       "      <td>0.0</td>\n",
       "      <td>0.0</td>\n",
       "    </tr>\n",
       "    <tr>\n",
       "      <th>2</th>\n",
       "      <td>3</td>\n",
       "      <td>4.8</td>\n",
       "      <td>85.0</td>\n",
       "      <td>0.0</td>\n",
       "      <td>0.0</td>\n",
       "      <td>0.0</td>\n",
       "      <td>0.0</td>\n",
       "      <td>1.0</td>\n",
       "      <td>0.0</td>\n",
       "      <td>0.0</td>\n",
       "      <td>...</td>\n",
       "      <td>0.0</td>\n",
       "      <td>0.0</td>\n",
       "      <td>0.0</td>\n",
       "      <td>0.0</td>\n",
       "      <td>0.0</td>\n",
       "      <td>0.0</td>\n",
       "      <td>0.0</td>\n",
       "      <td>0.0</td>\n",
       "      <td>0.0</td>\n",
       "      <td>0.0</td>\n",
       "    </tr>\n",
       "    <tr>\n",
       "      <th>3</th>\n",
       "      <td>4</td>\n",
       "      <td>3.8</td>\n",
       "      <td>76.5</td>\n",
       "      <td>0.0</td>\n",
       "      <td>1.0</td>\n",
       "      <td>0.0</td>\n",
       "      <td>0.0</td>\n",
       "      <td>0.0</td>\n",
       "      <td>0.0</td>\n",
       "      <td>0.0</td>\n",
       "      <td>...</td>\n",
       "      <td>0.0</td>\n",
       "      <td>0.0</td>\n",
       "      <td>0.0</td>\n",
       "      <td>0.0</td>\n",
       "      <td>0.0</td>\n",
       "      <td>0.0</td>\n",
       "      <td>0.0</td>\n",
       "      <td>0.0</td>\n",
       "      <td>1.0</td>\n",
       "      <td>0.0</td>\n",
       "    </tr>\n",
       "    <tr>\n",
       "      <th>4</th>\n",
       "      <td>5</td>\n",
       "      <td>2.9</td>\n",
       "      <td>114.5</td>\n",
       "      <td>0.0</td>\n",
       "      <td>0.0</td>\n",
       "      <td>0.0</td>\n",
       "      <td>0.0</td>\n",
       "      <td>0.0</td>\n",
       "      <td>1.0</td>\n",
       "      <td>0.0</td>\n",
       "      <td>...</td>\n",
       "      <td>0.0</td>\n",
       "      <td>0.0</td>\n",
       "      <td>0.0</td>\n",
       "      <td>0.0</td>\n",
       "      <td>0.0</td>\n",
       "      <td>0.0</td>\n",
       "      <td>0.0</td>\n",
       "      <td>0.0</td>\n",
       "      <td>0.0</td>\n",
       "      <td>0.0</td>\n",
       "    </tr>\n",
       "  </tbody>\n",
       "</table>\n",
       "<p>5 rows × 71 columns</p>\n",
       "</div>"
      ],
      "text/plain": [
       "   Unnamed: 0  Rating  avg_salary  Size_10000+ employees  \\\n",
       "0           1     3.8        72.0                    0.0   \n",
       "1           2     3.4        87.5                    1.0   \n",
       "2           3     4.8        85.0                    0.0   \n",
       "3           4     3.8        76.5                    0.0   \n",
       "4           5     2.9       114.5                    0.0   \n",
       "\n",
       "   Size_1001 to 5000 employees  Size_201 to 500 employees  \\\n",
       "0                          0.0                        0.0   \n",
       "1                          0.0                        0.0   \n",
       "2                          0.0                        0.0   \n",
       "3                          1.0                        0.0   \n",
       "4                          0.0                        0.0   \n",
       "\n",
       "   Size_5001 to 10000 employees  Size_501 to 1000 employees  \\\n",
       "0                           0.0                         1.0   \n",
       "1                           0.0                         0.0   \n",
       "2                           0.0                         1.0   \n",
       "3                           0.0                         0.0   \n",
       "4                           0.0                         0.0   \n",
       "\n",
       "   Size_51 to 200 employees  Size_Unknown  ...  job_state_ OR  job_state_ PA  \\\n",
       "0                       0.0           0.0  ...            0.0            0.0   \n",
       "1                       0.0           0.0  ...            0.0            0.0   \n",
       "2                       0.0           0.0  ...            0.0            0.0   \n",
       "3                       0.0           0.0  ...            0.0            0.0   \n",
       "4                       1.0           0.0  ...            0.0            0.0   \n",
       "\n",
       "   job_state_ RI  job_state_ SC  job_state_ TN  job_state_ TX  job_state_ UT  \\\n",
       "0            0.0            0.0            0.0            0.0            0.0   \n",
       "1            0.0            0.0            0.0            0.0            0.0   \n",
       "2            0.0            0.0            0.0            0.0            0.0   \n",
       "3            0.0            0.0            0.0            0.0            0.0   \n",
       "4            0.0            0.0            0.0            0.0            0.0   \n",
       "\n",
       "   job_state_ VA  job_state_ WA  job_state_ WI  \n",
       "0            0.0            0.0            0.0  \n",
       "1            0.0            0.0            0.0  \n",
       "2            0.0            0.0            0.0  \n",
       "3            0.0            1.0            0.0  \n",
       "4            0.0            0.0            0.0  \n",
       "\n",
       "[5 rows x 71 columns]"
      ]
     },
     "execution_count": 32,
     "metadata": {},
     "output_type": "execute_result"
    }
   ],
   "source": [
    "# I want to one-hot-encode the categorical variables into dummy varialbes, and then\n",
    "# concatenate this new dataframe with the original\n",
    "\n",
    "# Numeric dataframe:\n",
    "columns_to_drop = ['Size', 'Sector', 'job_state']\n",
    "ndf = df.drop(columns=columns_to_drop, axis=1)\n",
    "ndf.head()\n",
    "\n",
    "# Categorical dataframe:\n",
    "columns_to_drop = ['Unnamed: 0', 'Rating', 'avg_salary']\n",
    "cdf = df.drop(columns=columns_to_drop, axis=1)\n",
    "cdf.head()\n",
    "\n",
    "# One-hot_encoding categorical dataframe:\n",
    "# columns_to_encode = ['Size', 'Sector', 'job_state']\n",
    "# odf = pd.get_dummies(cdf, columns=columns_to_encode, drop_first=True, dtype=float)\n",
    "\n",
    "odf = pd.get_dummies(cdf, drop_first=True, dtype=float)\n",
    "odf.head()\n",
    "\n",
    "df = pd.concat([ndf, odf], axis=1)\n",
    "df.head()"
   ]
  },
  {
   "cell_type": "code",
   "execution_count": 33,
   "metadata": {},
   "outputs": [],
   "source": [
    "y = df['avg_salary'] # Create target variable vector"
   ]
  },
  {
   "cell_type": "code",
   "execution_count": 34,
   "metadata": {},
   "outputs": [
    {
     "data": {
      "text/plain": [
       "<AxesSubplot:>"
      ]
     },
     "execution_count": 34,
     "metadata": {},
     "output_type": "execute_result"
    },
    {
     "data": {
      "image/png": "[encoded data removed]",
      "text/plain": [
       "<Figure size 432x288 with 1 Axes>"
      ]
     },
     "metadata": {
      "needs_background": "light"
     },
     "output_type": "display_data"
    }
   ],
   "source": [
    "ndf.plot.box()"
   ]
  },
  {
   "cell_type": "code",
   "execution_count": 35,
   "metadata": {},
   "outputs": [
    {
     "data": {
      "text/plain": [
       "<AxesSubplot:>"
      ]
     },
     "execution_count": 35,
     "metadata": {},
     "output_type": "execute_result"
    },
    {
     "data": {
      "image/png": "[encoded data removed]",
      "text/plain": [
       "<Figure size 432x288 with 1 Axes>"
      ]
     },
     "metadata": {
      "needs_background": "light"
     },
     "output_type": "display_data"
    }
   ],
   "source": [
    "# Cleaning variables using windosor function:\n",
    "X.apply(windsorize)\n",
    "X.plot.box()"
   ]
  },
  {
   "cell_type": "code",
   "execution_count": 65,
   "metadata": {},
   "outputs": [],
   "source": [
    "def slr(x,y): # Single Linear Regression Function\n",
    "    x_bar = np.mean(x) # Average of x's\n",
    "    y_bar = np.mean(y) # Average of y's\n",
    "    b1 = np.inner(x-x_bar,y-y_bar)/np.inner(x-x_bar,x) # Slope coefficient\n",
    "    b0 = y_bar - b1*x_bar # Intercept coefficient\n",
    "    y_hat = b0 + b1*x   # Compute predictions\n",
    "    residuals = y - y_hat   # Compute residuals\n",
    "    return({'b0':b0,'b1':b1,'y_hat':y_hat,'residuals':residuals})"
   ]
  },
  {
   "cell_type": "code",
   "execution_count": 66,
   "metadata": {},
   "outputs": [
    {
     "ename": "ValueError",
     "evalue": "shapes (731,) and (24,731) not aligned: 731 (dim 0) != 24 (dim 0)",
     "output_type": "error",
     "traceback": [
      "\u001b[0;31m---------------------------------------------------------------------------\u001b[0m",
      "\u001b[0;31mValueError\u001b[0m                                Traceback (most recent call last)",
      "\u001b[0;32m<ipython-input-66-30047570de35>\u001b[0m in \u001b[0;36m<module>\u001b[0;34m\u001b[0m\n\u001b[1;32m      2\u001b[0m \u001b[0my\u001b[0m \u001b[0;34m=\u001b[0m \u001b[0msector_num\u001b[0m \u001b[0;34m=\u001b[0m \u001b[0mpd\u001b[0m\u001b[0;34m.\u001b[0m\u001b[0mget_dummies\u001b[0m\u001b[0;34m(\u001b[0m\u001b[0mcdf\u001b[0m\u001b[0;34m[\u001b[0m\u001b[0;34m'Sector'\u001b[0m\u001b[0;34m]\u001b[0m\u001b[0;34m,\u001b[0m \u001b[0mdrop_first\u001b[0m\u001b[0;34m=\u001b[0m\u001b[0;32mTrue\u001b[0m\u001b[0;34m,\u001b[0m \u001b[0mdtype\u001b[0m\u001b[0;34m=\u001b[0m\u001b[0mfloat\u001b[0m\u001b[0;34m)\u001b[0m\u001b[0;34m\u001b[0m\u001b[0;34m\u001b[0m\u001b[0m\n\u001b[1;32m      3\u001b[0m \u001b[0;34m\u001b[0m\u001b[0m\n\u001b[0;32m----> 4\u001b[0;31m \u001b[0mcoef\u001b[0m \u001b[0;34m=\u001b[0m \u001b[0mslr\u001b[0m\u001b[0;34m(\u001b[0m\u001b[0mx\u001b[0m\u001b[0;34m,\u001b[0m\u001b[0my\u001b[0m\u001b[0;34m)\u001b[0m\u001b[0;34m\u001b[0m\u001b[0;34m\u001b[0m\u001b[0m\n\u001b[0m\u001b[1;32m      5\u001b[0m \u001b[0;34m\u001b[0m\u001b[0m\n\u001b[1;32m      6\u001b[0m \u001b[0my_hat\u001b[0m \u001b[0;34m=\u001b[0m \u001b[0mcoef\u001b[0m\u001b[0;34m[\u001b[0m\u001b[0;34m'b0'\u001b[0m\u001b[0;34m]\u001b[0m\u001b[0;34m+\u001b[0m\u001b[0mcoef\u001b[0m\u001b[0;34m[\u001b[0m\u001b[0;34m'b1'\u001b[0m\u001b[0;34m]\u001b[0m\u001b[0;34m*\u001b[0m\u001b[0mx\u001b[0m\u001b[0;34m\u001b[0m\u001b[0;34m\u001b[0m\u001b[0m\n",
      "\u001b[0;32m<ipython-input-65-ad0a13a0e204>\u001b[0m in \u001b[0;36mslr\u001b[0;34m(x, y)\u001b[0m\n\u001b[1;32m      2\u001b[0m     \u001b[0mx_bar\u001b[0m \u001b[0;34m=\u001b[0m \u001b[0mnp\u001b[0m\u001b[0;34m.\u001b[0m\u001b[0mmean\u001b[0m\u001b[0;34m(\u001b[0m\u001b[0mx\u001b[0m\u001b[0;34m)\u001b[0m \u001b[0;31m# Average of x's\u001b[0m\u001b[0;34m\u001b[0m\u001b[0;34m\u001b[0m\u001b[0m\n\u001b[1;32m      3\u001b[0m     \u001b[0my_bar\u001b[0m \u001b[0;34m=\u001b[0m \u001b[0mnp\u001b[0m\u001b[0;34m.\u001b[0m\u001b[0mmean\u001b[0m\u001b[0;34m(\u001b[0m\u001b[0my\u001b[0m\u001b[0;34m)\u001b[0m \u001b[0;31m# Average of y's\u001b[0m\u001b[0;34m\u001b[0m\u001b[0;34m\u001b[0m\u001b[0m\n\u001b[0;32m----> 4\u001b[0;31m     \u001b[0mb1\u001b[0m \u001b[0;34m=\u001b[0m \u001b[0mnp\u001b[0m\u001b[0;34m.\u001b[0m\u001b[0minner\u001b[0m\u001b[0;34m(\u001b[0m\u001b[0mx\u001b[0m\u001b[0;34m-\u001b[0m\u001b[0mx_bar\u001b[0m\u001b[0;34m,\u001b[0m\u001b[0my\u001b[0m\u001b[0;34m-\u001b[0m\u001b[0my_bar\u001b[0m\u001b[0;34m)\u001b[0m\u001b[0;34m/\u001b[0m\u001b[0mnp\u001b[0m\u001b[0;34m.\u001b[0m\u001b[0minner\u001b[0m\u001b[0;34m(\u001b[0m\u001b[0mx\u001b[0m\u001b[0;34m-\u001b[0m\u001b[0mx_bar\u001b[0m\u001b[0;34m,\u001b[0m\u001b[0mx\u001b[0m\u001b[0;34m)\u001b[0m \u001b[0;31m# Slope coefficient\u001b[0m\u001b[0;34m\u001b[0m\u001b[0;34m\u001b[0m\u001b[0m\n\u001b[0m\u001b[1;32m      5\u001b[0m     \u001b[0mb0\u001b[0m \u001b[0;34m=\u001b[0m \u001b[0my_bar\u001b[0m \u001b[0;34m-\u001b[0m \u001b[0mb1\u001b[0m\u001b[0;34m*\u001b[0m\u001b[0mx_bar\u001b[0m \u001b[0;31m# Intercept coefficient\u001b[0m\u001b[0;34m\u001b[0m\u001b[0;34m\u001b[0m\u001b[0m\n\u001b[1;32m      6\u001b[0m     \u001b[0my_hat\u001b[0m \u001b[0;34m=\u001b[0m \u001b[0mb0\u001b[0m \u001b[0;34m+\u001b[0m \u001b[0mb1\u001b[0m\u001b[0;34m*\u001b[0m\u001b[0mx\u001b[0m   \u001b[0;31m# Compute predictions\u001b[0m\u001b[0;34m\u001b[0m\u001b[0;34m\u001b[0m\u001b[0m\n",
      "\u001b[0;32m<__array_function__ internals>\u001b[0m in \u001b[0;36minner\u001b[0;34m(*args, **kwargs)\u001b[0m\n",
      "\u001b[0;31mValueError\u001b[0m: shapes (731,) and (24,731) not aligned: 731 (dim 0) != 24 (dim 0)"
     ]
    }
   ],
   "source": [
    "x = df['avg_salary']\n",
    "y = sector_num = pd.get_dummies(cdf['Sector'], drop_first=True, dtype=float)\n",
    "\n",
    "coef = slr(x,y)\n",
    "\n",
    "y_hat = coef['b0']+coef['b1']*x\n",
    "\n",
    "plt.scatter(x,y,label='Data')\n",
    "plt.plot(x,y_hat,label='Regression Line',color='black')\n",
    "plt.xlabel(\"Mileage\")\n",
    "plt.ylabel(\"Price\")\n",
    "plt.legend(loc='upper right')\n",
    "plt.title('Linear Regression')\n",
    "plt.show()"
   ]
  },
  {
   "cell_type": "code",
   "execution_count": 67,
   "metadata": {},
   "outputs": [
    {
     "data": {
      "text/html": [
       "<div>\n",
       "<style scoped>\n",
       "    .dataframe tbody tr th:only-of-type {\n",
       "        vertical-align: middle;\n",
       "    }\n",
       "\n",
       "    .dataframe tbody tr th {\n",
       "        vertical-align: top;\n",
       "    }\n",
       "\n",
       "    .dataframe thead th {\n",
       "        text-align: right;\n",
       "    }\n",
       "</style>\n",
       "<table border=\"1\" class=\"dataframe\">\n",
       "  <thead>\n",
       "    <tr style=\"text-align: right;\">\n",
       "      <th></th>\n",
       "      <th>Accounting &amp; Legal</th>\n",
       "      <th>Aerospace &amp; Defense</th>\n",
       "      <th>Agriculture &amp; Forestry</th>\n",
       "      <th>Arts, Entertainment &amp; Recreation</th>\n",
       "      <th>Biotech &amp; Pharmaceuticals</th>\n",
       "      <th>Business Services</th>\n",
       "      <th>Construction, Repair &amp; Maintenance</th>\n",
       "      <th>Consumer Services</th>\n",
       "      <th>Education</th>\n",
       "      <th>Finance</th>\n",
       "      <th>...</th>\n",
       "      <th>Manufacturing</th>\n",
       "      <th>Media</th>\n",
       "      <th>Mining &amp; Metals</th>\n",
       "      <th>Non-Profit</th>\n",
       "      <th>Oil, Gas, Energy &amp; Utilities</th>\n",
       "      <th>Real Estate</th>\n",
       "      <th>Retail</th>\n",
       "      <th>Telecommunications</th>\n",
       "      <th>Transportation &amp; Logistics</th>\n",
       "      <th>Travel &amp; Tourism</th>\n",
       "    </tr>\n",
       "  </thead>\n",
       "  <tbody>\n",
       "    <tr>\n",
       "      <th>0</th>\n",
       "      <td>0.0</td>\n",
       "      <td>1.0</td>\n",
       "      <td>0.0</td>\n",
       "      <td>0.0</td>\n",
       "      <td>0.0</td>\n",
       "      <td>0.0</td>\n",
       "      <td>0.0</td>\n",
       "      <td>0.0</td>\n",
       "      <td>0.0</td>\n",
       "      <td>0.0</td>\n",
       "      <td>...</td>\n",
       "      <td>0.0</td>\n",
       "      <td>0.0</td>\n",
       "      <td>0.0</td>\n",
       "      <td>0.0</td>\n",
       "      <td>0.0</td>\n",
       "      <td>0.0</td>\n",
       "      <td>0.0</td>\n",
       "      <td>0.0</td>\n",
       "      <td>0.0</td>\n",
       "      <td>0.0</td>\n",
       "    </tr>\n",
       "    <tr>\n",
       "      <th>1</th>\n",
       "      <td>0.0</td>\n",
       "      <td>0.0</td>\n",
       "      <td>0.0</td>\n",
       "      <td>0.0</td>\n",
       "      <td>0.0</td>\n",
       "      <td>0.0</td>\n",
       "      <td>0.0</td>\n",
       "      <td>0.0</td>\n",
       "      <td>0.0</td>\n",
       "      <td>0.0</td>\n",
       "      <td>...</td>\n",
       "      <td>0.0</td>\n",
       "      <td>0.0</td>\n",
       "      <td>0.0</td>\n",
       "      <td>0.0</td>\n",
       "      <td>0.0</td>\n",
       "      <td>0.0</td>\n",
       "      <td>0.0</td>\n",
       "      <td>0.0</td>\n",
       "      <td>0.0</td>\n",
       "      <td>0.0</td>\n",
       "    </tr>\n",
       "    <tr>\n",
       "      <th>2</th>\n",
       "      <td>0.0</td>\n",
       "      <td>0.0</td>\n",
       "      <td>0.0</td>\n",
       "      <td>0.0</td>\n",
       "      <td>0.0</td>\n",
       "      <td>1.0</td>\n",
       "      <td>0.0</td>\n",
       "      <td>0.0</td>\n",
       "      <td>0.0</td>\n",
       "      <td>0.0</td>\n",
       "      <td>...</td>\n",
       "      <td>0.0</td>\n",
       "      <td>0.0</td>\n",
       "      <td>0.0</td>\n",
       "      <td>0.0</td>\n",
       "      <td>0.0</td>\n",
       "      <td>0.0</td>\n",
       "      <td>0.0</td>\n",
       "      <td>0.0</td>\n",
       "      <td>0.0</td>\n",
       "      <td>0.0</td>\n",
       "    </tr>\n",
       "    <tr>\n",
       "      <th>3</th>\n",
       "      <td>0.0</td>\n",
       "      <td>0.0</td>\n",
       "      <td>0.0</td>\n",
       "      <td>0.0</td>\n",
       "      <td>0.0</td>\n",
       "      <td>0.0</td>\n",
       "      <td>0.0</td>\n",
       "      <td>0.0</td>\n",
       "      <td>0.0</td>\n",
       "      <td>0.0</td>\n",
       "      <td>...</td>\n",
       "      <td>0.0</td>\n",
       "      <td>0.0</td>\n",
       "      <td>0.0</td>\n",
       "      <td>0.0</td>\n",
       "      <td>1.0</td>\n",
       "      <td>0.0</td>\n",
       "      <td>0.0</td>\n",
       "      <td>0.0</td>\n",
       "      <td>0.0</td>\n",
       "      <td>0.0</td>\n",
       "    </tr>\n",
       "    <tr>\n",
       "      <th>4</th>\n",
       "      <td>0.0</td>\n",
       "      <td>0.0</td>\n",
       "      <td>0.0</td>\n",
       "      <td>0.0</td>\n",
       "      <td>0.0</td>\n",
       "      <td>1.0</td>\n",
       "      <td>0.0</td>\n",
       "      <td>0.0</td>\n",
       "      <td>0.0</td>\n",
       "      <td>0.0</td>\n",
       "      <td>...</td>\n",
       "      <td>0.0</td>\n",
       "      <td>0.0</td>\n",
       "      <td>0.0</td>\n",
       "      <td>0.0</td>\n",
       "      <td>0.0</td>\n",
       "      <td>0.0</td>\n",
       "      <td>0.0</td>\n",
       "      <td>0.0</td>\n",
       "      <td>0.0</td>\n",
       "      <td>0.0</td>\n",
       "    </tr>\n",
       "  </tbody>\n",
       "</table>\n",
       "<p>5 rows × 24 columns</p>\n",
       "</div>"
      ],
      "text/plain": [
       "   Accounting & Legal  Aerospace & Defense  Agriculture & Forestry  \\\n",
       "0                 0.0                  1.0                     0.0   \n",
       "1                 0.0                  0.0                     0.0   \n",
       "2                 0.0                  0.0                     0.0   \n",
       "3                 0.0                  0.0                     0.0   \n",
       "4                 0.0                  0.0                     0.0   \n",
       "\n",
       "   Arts, Entertainment & Recreation  Biotech & Pharmaceuticals  \\\n",
       "0                               0.0                        0.0   \n",
       "1                               0.0                        0.0   \n",
       "2                               0.0                        0.0   \n",
       "3                               0.0                        0.0   \n",
       "4                               0.0                        0.0   \n",
       "\n",
       "   Business Services  Construction, Repair & Maintenance  Consumer Services  \\\n",
       "0                0.0                                 0.0                0.0   \n",
       "1                0.0                                 0.0                0.0   \n",
       "2                1.0                                 0.0                0.0   \n",
       "3                0.0                                 0.0                0.0   \n",
       "4                1.0                                 0.0                0.0   \n",
       "\n",
       "   Education  Finance  ...  Manufacturing  Media  Mining & Metals  Non-Profit  \\\n",
       "0        0.0      0.0  ...            0.0    0.0              0.0         0.0   \n",
       "1        0.0      0.0  ...            0.0    0.0              0.0         0.0   \n",
       "2        0.0      0.0  ...            0.0    0.0              0.0         0.0   \n",
       "3        0.0      0.0  ...            0.0    0.0              0.0         0.0   \n",
       "4        0.0      0.0  ...            0.0    0.0              0.0         0.0   \n",
       "\n",
       "   Oil, Gas, Energy & Utilities  Real Estate  Retail  Telecommunications  \\\n",
       "0                           0.0          0.0     0.0                 0.0   \n",
       "1                           0.0          0.0     0.0                 0.0   \n",
       "2                           0.0          0.0     0.0                 0.0   \n",
       "3                           1.0          0.0     0.0                 0.0   \n",
       "4                           0.0          0.0     0.0                 0.0   \n",
       "\n",
       "   Transportation & Logistics  Travel & Tourism  \n",
       "0                         0.0               0.0  \n",
       "1                         0.0               0.0  \n",
       "2                         0.0               0.0  \n",
       "3                         0.0               0.0  \n",
       "4                         0.0               0.0  \n",
       "\n",
       "[5 rows x 24 columns]"
      ]
     },
     "execution_count": 67,
     "metadata": {},
     "output_type": "execute_result"
    }
   ],
   "source": [
    "# Question 2 part 2:\n",
    "\n",
    "y = ndf['avg_salary'] # Create target variable vector\n",
    "\n",
    "# Create feature matrix with sector\n",
    "\n",
    "X = sector_num = pd.get_dummies(cdf['Sector'], drop_first=True, dtype=float)\n",
    "X.head()"
   ]
  },
  {
   "cell_type": "code",
   "execution_count": 68,
   "metadata": {},
   "outputs": [
    {
     "data": {
      "text/plain": [
       "<AxesSubplot:>"
      ]
     },
     "execution_count": 68,
     "metadata": {},
     "output_type": "execute_result"
    },
    {
     "data": {
      "image/png": "[encoded data removed]",
      "text/plain": [
       "<Figure size 432x288 with 1 Axes>"
      ]
     },
     "metadata": {
      "needs_background": "light"
     },
     "output_type": "display_data"
    }
   ],
   "source": [
    "# X.apply(windsorize)\n",
    "X.plot.box()"
   ]
  },
  {
   "cell_type": "code",
   "execution_count": 159,
   "metadata": {},
   "outputs": [],
   "source": [
    "from sklearn.model_selection import train_test_split\n",
    "X_train, X_test, y_train, y_test = train_test_split(X, y, test_size=0.2, random_state=50)\n",
    "TSS = np.sum( (y_test - y_train.mean())**2 )\n",
    "N_test = len(y_test)"
   ]
  },
  {
   "cell_type": "code",
   "execution_count": 70,
   "metadata": {},
   "outputs": [],
   "source": [
    "from sklearn.neighbors import KNeighborsRegressor\n",
    "from sklearn.linear_model import LinearRegression # Import linear regression model\n",
    "from sklearn.preprocessing import PolynomialFeatures\n",
    "\n",
    "# Maxmin normalization function:\n",
    "def maxmin(z):\n",
    "    z = (z-min(z))/(max(z)-min(z))\n",
    "    return(z)\n",
    "\n",
    "# Apply maxmin to each column of X:\n",
    "X_train_knn = X_train.apply(maxmin)\n",
    "X_test_knn = X_test.apply(maxmin)\n",
    "\n"
   ]
  },
  {
   "cell_type": "code",
   "execution_count": 71,
   "metadata": {},
   "outputs": [
    {
     "name": "stdout",
     "output_type": "stream",
     "text": [
      "0.08596457751815356\n"
     ]
    }
   ],
   "source": [
    "reg = LinearRegression().fit(X_train, y_train) # Fit the linear model\n",
    "print(reg.score(X_test, y_test)) # R squared measure"
   ]
  },
  {
   "cell_type": "code",
   "execution_count": 72,
   "metadata": {},
   "outputs": [
    {
     "data": {
      "image/png": "[encoded data removed]",
      "text/plain": [
       "<Figure size 432x288 with 1 Axes>"
      ]
     },
     "metadata": {
      "needs_background": "light"
     },
     "output_type": "display_data"
    },
    {
     "data": {
      "image/png": "[encoded data removed]",
      "text/plain": [
       "<Figure size 432x288 with 1 Axes>"
      ]
     },
     "metadata": {
      "needs_background": "light"
     },
     "output_type": "display_data"
    },
    {
     "name": "stdout",
     "output_type": "stream",
     "text": [
      "37.50577913830052 \n",
      "\n",
      "0.0902411096414174 \n",
      "\n"
     ]
    }
   ],
   "source": [
    "# Predicted values:\n",
    "y_hat = reg.predict(X_test)\n",
    "residuals = y_test - y_hat\n",
    "\n",
    "## Residual plot:\n",
    "sns.kdeplot(residuals)\n",
    "plt.show()\n",
    "\n",
    "## True versus predicted plot:\n",
    "plt.scatter(x=y_hat,y=y_test)\n",
    "plt.title('Predicted vs. Actual Values')\n",
    "plt.show()\n",
    "\n",
    "## Metrics:\n",
    "SSE = np.sum( (y_test-y_hat)**2 )\n",
    "MSE = SSE/N_test\n",
    "RMSE = (SSE/N_test)**(1/2)\n",
    "R2 = 1 - SSE/TSS\n",
    "print(RMSE,'\\n')\n",
    "print(R2, '\\n')"
   ]
  },
  {
   "cell_type": "code",
   "execution_count": null,
   "metadata": {},
   "outputs": [],
   "source": [
    "# The RMSE value is 37.506 for this data, with a R2 of 0.09. "
   ]
  },
  {
   "cell_type": "code",
   "execution_count": 73,
   "metadata": {},
   "outputs": [
    {
     "ename": "ValueError",
     "evalue": "Input contains NaN, infinity or a value too large for dtype('float64').",
     "output_type": "error",
     "traceback": [
      "\u001b[0;31m---------------------------------------------------------------------------\u001b[0m",
      "\u001b[0;31mValueError\u001b[0m                                Traceback (most recent call last)",
      "\u001b[0;32m<ipython-input-73-5580b5e0a0fa>\u001b[0m in \u001b[0;36m<module>\u001b[0;34m\u001b[0m\n\u001b[1;32m     16\u001b[0m \u001b[0;32mfor\u001b[0m \u001b[0mk\u001b[0m \u001b[0;32min\u001b[0m \u001b[0mrange\u001b[0m\u001b[0;34m(\u001b[0m\u001b[0mk_bar\u001b[0m\u001b[0;34m-\u001b[0m\u001b[0;36m1\u001b[0m\u001b[0;34m)\u001b[0m\u001b[0;34m:\u001b[0m\u001b[0;34m\u001b[0m\u001b[0;34m\u001b[0m\u001b[0m\n\u001b[1;32m     17\u001b[0m     \u001b[0mmodel\u001b[0m \u001b[0;34m=\u001b[0m \u001b[0mKNeighborsRegressor\u001b[0m\u001b[0;34m(\u001b[0m\u001b[0mn_neighbors\u001b[0m\u001b[0;34m=\u001b[0m\u001b[0mk\u001b[0m\u001b[0;34m+\u001b[0m\u001b[0;36m1\u001b[0m\u001b[0;34m)\u001b[0m \u001b[0;31m# Create a sk model for k\u001b[0m\u001b[0;34m\u001b[0m\u001b[0;34m\u001b[0m\u001b[0m\n\u001b[0;32m---> 18\u001b[0;31m     \u001b[0mfitted_model\u001b[0m \u001b[0;34m=\u001b[0m \u001b[0mmodel\u001b[0m\u001b[0;34m.\u001b[0m\u001b[0mfit\u001b[0m\u001b[0;34m(\u001b[0m\u001b[0mX_train_knn\u001b[0m\u001b[0;34m,\u001b[0m\u001b[0my_train\u001b[0m\u001b[0;34m)\u001b[0m \u001b[0;31m# Train the model on our data\u001b[0m\u001b[0;34m\u001b[0m\u001b[0;34m\u001b[0m\u001b[0m\n\u001b[0m\u001b[1;32m     19\u001b[0m     \u001b[0my_hat\u001b[0m \u001b[0;34m=\u001b[0m \u001b[0mfitted_model\u001b[0m\u001b[0;34m.\u001b[0m\u001b[0mpredict\u001b[0m\u001b[0;34m(\u001b[0m\u001b[0mX_test_knn\u001b[0m\u001b[0;34m)\u001b[0m \u001b[0;31m# Predict values for test set\u001b[0m\u001b[0;34m\u001b[0m\u001b[0;34m\u001b[0m\u001b[0m\n\u001b[1;32m     20\u001b[0m     \u001b[0mSSE\u001b[0m\u001b[0;34m[\u001b[0m\u001b[0mk\u001b[0m\u001b[0;34m]\u001b[0m \u001b[0;34m=\u001b[0m \u001b[0mnp\u001b[0m\u001b[0;34m.\u001b[0m\u001b[0msum\u001b[0m\u001b[0;34m(\u001b[0m \u001b[0;34m(\u001b[0m\u001b[0my_test\u001b[0m\u001b[0;34m-\u001b[0m\u001b[0my_hat\u001b[0m\u001b[0;34m)\u001b[0m\u001b[0;34m**\u001b[0m\u001b[0;36m2\u001b[0m \u001b[0;34m)\u001b[0m \u001b[0;31m# Save the computed SSE\u001b[0m\u001b[0;34m\u001b[0m\u001b[0;34m\u001b[0m\u001b[0m\n",
      "\u001b[0;32m/apps/software/standard/compiler/gcc/9.2.0/jupyter_conda/2020.11-py3.8/lib/python3.8/site-packages/sklearn/neighbors/_base.py\u001b[0m in \u001b[0;36mfit\u001b[0;34m(self, X, y)\u001b[0m\n\u001b[1;32m   1105\u001b[0m         \"\"\"\n\u001b[1;32m   1106\u001b[0m         \u001b[0;32mif\u001b[0m \u001b[0;32mnot\u001b[0m \u001b[0misinstance\u001b[0m\u001b[0;34m(\u001b[0m\u001b[0mX\u001b[0m\u001b[0;34m,\u001b[0m \u001b[0;34m(\u001b[0m\u001b[0mKDTree\u001b[0m\u001b[0;34m,\u001b[0m \u001b[0mBallTree\u001b[0m\u001b[0;34m)\u001b[0m\u001b[0;34m)\u001b[0m\u001b[0;34m:\u001b[0m\u001b[0;34m\u001b[0m\u001b[0;34m\u001b[0m\u001b[0m\n\u001b[0;32m-> 1107\u001b[0;31m             X, y = self._validate_data(X, y, accept_sparse=\"csr\",\n\u001b[0m\u001b[1;32m   1108\u001b[0m                                        multi_output=True)\n\u001b[1;32m   1109\u001b[0m         \u001b[0mself\u001b[0m\u001b[0;34m.\u001b[0m\u001b[0m_y\u001b[0m \u001b[0;34m=\u001b[0m \u001b[0my\u001b[0m\u001b[0;34m\u001b[0m\u001b[0;34m\u001b[0m\u001b[0m\n",
      "\u001b[0;32m/apps/software/standard/compiler/gcc/9.2.0/jupyter_conda/2020.11-py3.8/lib/python3.8/site-packages/sklearn/base.py\u001b[0m in \u001b[0;36m_validate_data\u001b[0;34m(self, X, y, reset, validate_separately, **check_params)\u001b[0m\n\u001b[1;32m    430\u001b[0m                 \u001b[0my\u001b[0m \u001b[0;34m=\u001b[0m \u001b[0mcheck_array\u001b[0m\u001b[0;34m(\u001b[0m\u001b[0my\u001b[0m\u001b[0;34m,\u001b[0m \u001b[0;34m**\u001b[0m\u001b[0mcheck_y_params\u001b[0m\u001b[0;34m)\u001b[0m\u001b[0;34m\u001b[0m\u001b[0;34m\u001b[0m\u001b[0m\n\u001b[1;32m    431\u001b[0m             \u001b[0;32melse\u001b[0m\u001b[0;34m:\u001b[0m\u001b[0;34m\u001b[0m\u001b[0;34m\u001b[0m\u001b[0m\n\u001b[0;32m--> 432\u001b[0;31m                 \u001b[0mX\u001b[0m\u001b[0;34m,\u001b[0m \u001b[0my\u001b[0m \u001b[0;34m=\u001b[0m \u001b[0mcheck_X_y\u001b[0m\u001b[0;34m(\u001b[0m\u001b[0mX\u001b[0m\u001b[0;34m,\u001b[0m \u001b[0my\u001b[0m\u001b[0;34m,\u001b[0m \u001b[0;34m**\u001b[0m\u001b[0mcheck_params\u001b[0m\u001b[0;34m)\u001b[0m\u001b[0;34m\u001b[0m\u001b[0;34m\u001b[0m\u001b[0m\n\u001b[0m\u001b[1;32m    433\u001b[0m             \u001b[0mout\u001b[0m \u001b[0;34m=\u001b[0m \u001b[0mX\u001b[0m\u001b[0;34m,\u001b[0m \u001b[0my\u001b[0m\u001b[0;34m\u001b[0m\u001b[0;34m\u001b[0m\u001b[0m\n\u001b[1;32m    434\u001b[0m \u001b[0;34m\u001b[0m\u001b[0m\n",
      "\u001b[0;32m/apps/software/standard/compiler/gcc/9.2.0/jupyter_conda/2020.11-py3.8/lib/python3.8/site-packages/sklearn/utils/validation.py\u001b[0m in \u001b[0;36minner_f\u001b[0;34m(*args, **kwargs)\u001b[0m\n\u001b[1;32m     70\u001b[0m                           FutureWarning)\n\u001b[1;32m     71\u001b[0m         \u001b[0mkwargs\u001b[0m\u001b[0;34m.\u001b[0m\u001b[0mupdate\u001b[0m\u001b[0;34m(\u001b[0m\u001b[0;34m{\u001b[0m\u001b[0mk\u001b[0m\u001b[0;34m:\u001b[0m \u001b[0marg\u001b[0m \u001b[0;32mfor\u001b[0m \u001b[0mk\u001b[0m\u001b[0;34m,\u001b[0m \u001b[0marg\u001b[0m \u001b[0;32min\u001b[0m \u001b[0mzip\u001b[0m\u001b[0;34m(\u001b[0m\u001b[0msig\u001b[0m\u001b[0;34m.\u001b[0m\u001b[0mparameters\u001b[0m\u001b[0;34m,\u001b[0m \u001b[0margs\u001b[0m\u001b[0;34m)\u001b[0m\u001b[0;34m}\u001b[0m\u001b[0;34m)\u001b[0m\u001b[0;34m\u001b[0m\u001b[0;34m\u001b[0m\u001b[0m\n\u001b[0;32m---> 72\u001b[0;31m         \u001b[0;32mreturn\u001b[0m \u001b[0mf\u001b[0m\u001b[0;34m(\u001b[0m\u001b[0;34m**\u001b[0m\u001b[0mkwargs\u001b[0m\u001b[0;34m)\u001b[0m\u001b[0;34m\u001b[0m\u001b[0;34m\u001b[0m\u001b[0m\n\u001b[0m\u001b[1;32m     73\u001b[0m     \u001b[0;32mreturn\u001b[0m \u001b[0minner_f\u001b[0m\u001b[0;34m\u001b[0m\u001b[0;34m\u001b[0m\u001b[0m\n\u001b[1;32m     74\u001b[0m \u001b[0;34m\u001b[0m\u001b[0m\n",
      "\u001b[0;32m/apps/software/standard/compiler/gcc/9.2.0/jupyter_conda/2020.11-py3.8/lib/python3.8/site-packages/sklearn/utils/validation.py\u001b[0m in \u001b[0;36mcheck_X_y\u001b[0;34m(X, y, accept_sparse, accept_large_sparse, dtype, order, copy, force_all_finite, ensure_2d, allow_nd, multi_output, ensure_min_samples, ensure_min_features, y_numeric, estimator)\u001b[0m\n\u001b[1;32m    793\u001b[0m         \u001b[0;32mraise\u001b[0m \u001b[0mValueError\u001b[0m\u001b[0;34m(\u001b[0m\u001b[0;34m\"y cannot be None\"\u001b[0m\u001b[0;34m)\u001b[0m\u001b[0;34m\u001b[0m\u001b[0;34m\u001b[0m\u001b[0m\n\u001b[1;32m    794\u001b[0m \u001b[0;34m\u001b[0m\u001b[0m\n\u001b[0;32m--> 795\u001b[0;31m     X = check_array(X, accept_sparse=accept_sparse,\n\u001b[0m\u001b[1;32m    796\u001b[0m                     \u001b[0maccept_large_sparse\u001b[0m\u001b[0;34m=\u001b[0m\u001b[0maccept_large_sparse\u001b[0m\u001b[0;34m,\u001b[0m\u001b[0;34m\u001b[0m\u001b[0;34m\u001b[0m\u001b[0m\n\u001b[1;32m    797\u001b[0m                     \u001b[0mdtype\u001b[0m\u001b[0;34m=\u001b[0m\u001b[0mdtype\u001b[0m\u001b[0;34m,\u001b[0m \u001b[0morder\u001b[0m\u001b[0;34m=\u001b[0m\u001b[0morder\u001b[0m\u001b[0;34m,\u001b[0m \u001b[0mcopy\u001b[0m\u001b[0;34m=\u001b[0m\u001b[0mcopy\u001b[0m\u001b[0;34m,\u001b[0m\u001b[0;34m\u001b[0m\u001b[0;34m\u001b[0m\u001b[0m\n",
      "\u001b[0;32m/apps/software/standard/compiler/gcc/9.2.0/jupyter_conda/2020.11-py3.8/lib/python3.8/site-packages/sklearn/utils/validation.py\u001b[0m in \u001b[0;36minner_f\u001b[0;34m(*args, **kwargs)\u001b[0m\n\u001b[1;32m     70\u001b[0m                           FutureWarning)\n\u001b[1;32m     71\u001b[0m         \u001b[0mkwargs\u001b[0m\u001b[0;34m.\u001b[0m\u001b[0mupdate\u001b[0m\u001b[0;34m(\u001b[0m\u001b[0;34m{\u001b[0m\u001b[0mk\u001b[0m\u001b[0;34m:\u001b[0m \u001b[0marg\u001b[0m \u001b[0;32mfor\u001b[0m \u001b[0mk\u001b[0m\u001b[0;34m,\u001b[0m \u001b[0marg\u001b[0m \u001b[0;32min\u001b[0m \u001b[0mzip\u001b[0m\u001b[0;34m(\u001b[0m\u001b[0msig\u001b[0m\u001b[0;34m.\u001b[0m\u001b[0mparameters\u001b[0m\u001b[0;34m,\u001b[0m \u001b[0margs\u001b[0m\u001b[0;34m)\u001b[0m\u001b[0;34m}\u001b[0m\u001b[0;34m)\u001b[0m\u001b[0;34m\u001b[0m\u001b[0;34m\u001b[0m\u001b[0m\n\u001b[0;32m---> 72\u001b[0;31m         \u001b[0;32mreturn\u001b[0m \u001b[0mf\u001b[0m\u001b[0;34m(\u001b[0m\u001b[0;34m**\u001b[0m\u001b[0mkwargs\u001b[0m\u001b[0;34m)\u001b[0m\u001b[0;34m\u001b[0m\u001b[0;34m\u001b[0m\u001b[0m\n\u001b[0m\u001b[1;32m     73\u001b[0m     \u001b[0;32mreturn\u001b[0m \u001b[0minner_f\u001b[0m\u001b[0;34m\u001b[0m\u001b[0;34m\u001b[0m\u001b[0m\n\u001b[1;32m     74\u001b[0m \u001b[0;34m\u001b[0m\u001b[0m\n",
      "\u001b[0;32m/apps/software/standard/compiler/gcc/9.2.0/jupyter_conda/2020.11-py3.8/lib/python3.8/site-packages/sklearn/utils/validation.py\u001b[0m in \u001b[0;36mcheck_array\u001b[0;34m(array, accept_sparse, accept_large_sparse, dtype, order, copy, force_all_finite, ensure_2d, allow_nd, ensure_min_samples, ensure_min_features, estimator)\u001b[0m\n\u001b[1;32m    642\u001b[0m \u001b[0;34m\u001b[0m\u001b[0m\n\u001b[1;32m    643\u001b[0m         \u001b[0;32mif\u001b[0m \u001b[0mforce_all_finite\u001b[0m\u001b[0;34m:\u001b[0m\u001b[0;34m\u001b[0m\u001b[0;34m\u001b[0m\u001b[0m\n\u001b[0;32m--> 644\u001b[0;31m             _assert_all_finite(array,\n\u001b[0m\u001b[1;32m    645\u001b[0m                                allow_nan=force_all_finite == 'allow-nan')\n\u001b[1;32m    646\u001b[0m \u001b[0;34m\u001b[0m\u001b[0m\n",
      "\u001b[0;32m/apps/software/standard/compiler/gcc/9.2.0/jupyter_conda/2020.11-py3.8/lib/python3.8/site-packages/sklearn/utils/validation.py\u001b[0m in \u001b[0;36m_assert_all_finite\u001b[0;34m(X, allow_nan, msg_dtype)\u001b[0m\n\u001b[1;32m     94\u001b[0m                 not allow_nan and not np.isfinite(X).all()):\n\u001b[1;32m     95\u001b[0m             \u001b[0mtype_err\u001b[0m \u001b[0;34m=\u001b[0m \u001b[0;34m'infinity'\u001b[0m \u001b[0;32mif\u001b[0m \u001b[0mallow_nan\u001b[0m \u001b[0;32melse\u001b[0m \u001b[0;34m'NaN, infinity'\u001b[0m\u001b[0;34m\u001b[0m\u001b[0;34m\u001b[0m\u001b[0m\n\u001b[0;32m---> 96\u001b[0;31m             raise ValueError(\n\u001b[0m\u001b[1;32m     97\u001b[0m                     \u001b[0mmsg_err\u001b[0m\u001b[0;34m.\u001b[0m\u001b[0mformat\u001b[0m\u001b[0;34m\u001b[0m\u001b[0;34m\u001b[0m\u001b[0m\n\u001b[1;32m     98\u001b[0m                     (type_err,\n",
      "\u001b[0;31mValueError\u001b[0m: Input contains NaN, infinity or a value too large for dtype('float64')."
     ]
    }
   ],
   "source": [
    "# from sklearn.neighbors import KNeighborsRegressor\n",
    "\n",
    "# # Maxmin normalization function:\n",
    "# def maxmin(z):\n",
    "#     z = (z-min(z))/(max(z)-min(z))\n",
    "#     return(z)\n",
    "\n",
    "# # Apply maxmin to each column of X:\n",
    "# X_train_knn = X_train.apply(maxmin)\n",
    "# X_test_knn = X_test.apply(maxmin)\n",
    "\n",
    "# # Determine optimal k:\n",
    "# k_bar = 4\n",
    "# k_grid = np.arange(1,k_bar) # The range of k's to consider\n",
    "# SSE = np.zeros(k_bar-1) # For comparison purposes, store the training error\n",
    "# for k in range(k_bar-1):\n",
    "#     model = KNeighborsRegressor(n_neighbors=k+1) # Create a sk model for k\n",
    "#     fitted_model = model.fit(X_train_knn,y_train) # Train the model on our data\n",
    "#     y_hat = fitted_model.predict(X_test_knn) # Predict values for test set\n",
    "#     SSE[k] = np.sum( (y_test-y_hat)**2 ) # Save the computed SSE\n",
    "# SSE_min = np.min(SSE) # Lowest recorded SSE\n",
    "# min_index = np.where(SSE==SSE_min) # Find the indices of y that equal the minimum\n",
    "# k_star = k_grid[min_index][0] # Find the optimal value of k\n",
    "# print(k_star)\n",
    "\n",
    "# ## SSE plot:\n",
    "# plt.plot(k_grid,SSE)\n",
    "# plt.xlabel(\"k\")\n",
    "# plt.ylabel(\"SSE\")\n",
    "# plt.title('SSE')\n",
    "# plt.show()"
   ]
  },
  {
   "cell_type": "code",
   "execution_count": 186,
   "metadata": {},
   "outputs": [
    {
     "data": {
      "text/plain": [
       "<AxesSubplot:>"
      ]
     },
     "execution_count": 186,
     "metadata": {},
     "output_type": "execute_result"
    },
    {
     "data": {
      "image/png": "[encoded data removed]",
      "text/plain": [
       "<Figure size 432x288 with 1 Axes>"
      ]
     },
     "metadata": {
      "needs_background": "light"
     },
     "output_type": "display_data"
    }
   ],
   "source": [
    "# Q2 part 3\n",
    "\n",
    "df = df = pd.read_csv('./data/wages_hw.csv')\n",
    "df['avg_salary_ihs'] = np.arcsinh(df['avg_salary'])\n",
    "df['Rating_ihs'] = np.arcsinh(df['Rating'])\n",
    "df['avg_salary_ihs'].plot.box()"
   ]
  },
  {
   "cell_type": "code",
   "execution_count": 187,
   "metadata": {},
   "outputs": [
    {
     "data": {
      "text/plain": [
       "<AxesSubplot:>"
      ]
     },
     "execution_count": 187,
     "metadata": {},
     "output_type": "execute_result"
    },
    {
     "data": {
      "image/png": "[encoded data removed]",
      "text/plain": [
       "<Figure size 432x288 with 1 Axes>"
      ]
     },
     "metadata": {
      "needs_background": "light"
     },
     "output_type": "display_data"
    }
   ],
   "source": [
    "df['Rating_ihs'].plot.box()"
   ]
  },
  {
   "cell_type": "code",
   "execution_count": 188,
   "metadata": {},
   "outputs": [
    {
     "data": {
      "text/plain": [
       "<AxesSubplot:xlabel='Rating_ihs', ylabel='avg_salary_ihs'>"
      ]
     },
     "execution_count": 188,
     "metadata": {},
     "output_type": "execute_result"
    },
    {
     "data": {
      "image/png": "[encoded data removed]",
      "text/plain": [
       "<Figure size 432x288 with 1 Axes>"
      ]
     },
     "metadata": {
      "needs_background": "light"
     },
     "output_type": "display_data"
    }
   ],
   "source": [
    "sns.scatterplot(data=df,y='avg_salary_ihs',x='Rating_ihs')"
   ]
  },
  {
   "cell_type": "code",
   "execution_count": 189,
   "metadata": {},
   "outputs": [],
   "source": [
    "# From this scatter plot, there isn't any obvious relationship between rating and avg_salary"
   ]
  },
  {
   "cell_type": "code",
   "execution_count": 190,
   "metadata": {},
   "outputs": [],
   "source": [
    "# Cleaning rating and avg_salary:\n",
    "\n",
    "df =  df.loc[df['avg_salary_ihs']>4.25,:] \n",
    "df = df.loc[df['Rating_ihs']>1.7,:]"
   ]
  },
  {
   "cell_type": "code",
   "execution_count": 191,
   "metadata": {},
   "outputs": [
    {
     "data": {
      "text/plain": [
       "<AxesSubplot:xlabel='Rating_ihs', ylabel='avg_salary_ihs'>"
      ]
     },
     "execution_count": 191,
     "metadata": {},
     "output_type": "execute_result"
    },
    {
     "data": {
      "image/png": "[encoded data removed]",
      "text/plain": [
       "<Figure size 432x288 with 1 Axes>"
      ]
     },
     "metadata": {
      "needs_background": "light"
     },
     "output_type": "display_data"
    }
   ],
   "source": [
    "sns.scatterplot(data=df,x='Rating_ihs',y='avg_salary_ihs')"
   ]
  },
  {
   "cell_type": "code",
   "execution_count": 192,
   "metadata": {},
   "outputs": [
    {
     "name": "stdout",
     "output_type": "stream",
     "text": [
      "Intercept:  4.669479426532151 \n",
      "  Slope:  0.2952540876033145\n"
     ]
    },
    {
     "data": {
      "image/png": "[encoded data removed]",
      "text/plain": [
       "<Figure size 432x288 with 1 Axes>"
      ]
     },
     "metadata": {
      "needs_background": "light"
     },
     "output_type": "display_data"
    }
   ],
   "source": [
    "x = df['Rating_ihs']\n",
    "y = df['avg_salary_ihs']\n",
    "\n",
    "coef = slr(x,y) # Single Linear Regression\n",
    "print('Intercept: ',coef['b0'], '\\n', ' Slope: ', coef['b1']) \n",
    "\n",
    "y_hat = coef['b0']+coef['b1']*x # Compute predictions\n",
    "\n",
    "# Scatter plot of fit:\n",
    "plt.scatter(x,y,label='Data')\n",
    "plt.plot(x,y_hat,label='Regression Line',color='black')\n",
    "plt.xlabel(\"Rating, ihs\")\n",
    "plt.ylabel(\"avg_salary, ihs\")\n",
    "plt.legend(loc='upper right')\n",
    "plt.title('Linear Regression')\n",
    "\n",
    "plt.show()"
   ]
  },
  {
   "cell_type": "code",
   "execution_count": null,
   "metadata": {},
   "outputs": [],
   "source": [
    "# Higher ratings barely predict higher avg_salary according to the line of best fit"
   ]
  },
  {
   "cell_type": "code",
   "execution_count": 182,
   "metadata": {},
   "outputs": [
    {
     "data": {
      "text/html": [
       "<div>\n",
       "<style scoped>\n",
       "    .dataframe tbody tr th:only-of-type {\n",
       "        vertical-align: middle;\n",
       "    }\n",
       "\n",
       "    .dataframe tbody tr th {\n",
       "        vertical-align: top;\n",
       "    }\n",
       "\n",
       "    .dataframe thead th {\n",
       "        text-align: right;\n",
       "    }\n",
       "</style>\n",
       "<table border=\"1\" class=\"dataframe\">\n",
       "  <thead>\n",
       "    <tr style=\"text-align: right;\">\n",
       "      <th></th>\n",
       "      <th>1.753229</th>\n",
       "      <th>1.786340</th>\n",
       "      <th>1.818446</th>\n",
       "      <th>1.849604</th>\n",
       "      <th>1.879864</th>\n",
       "      <th>1.909274</th>\n",
       "      <th>1.937879</th>\n",
       "      <th>1.965720</th>\n",
       "      <th>1.992836</th>\n",
       "      <th>2.019261</th>\n",
       "      <th>...</th>\n",
       "      <th>2.094713</th>\n",
       "      <th>2.118685</th>\n",
       "      <th>2.142112</th>\n",
       "      <th>2.165017</th>\n",
       "      <th>2.187422</th>\n",
       "      <th>2.209348</th>\n",
       "      <th>2.230814</th>\n",
       "      <th>2.251840</th>\n",
       "      <th>2.272441</th>\n",
       "      <th>2.312438</th>\n",
       "    </tr>\n",
       "  </thead>\n",
       "  <tbody>\n",
       "    <tr>\n",
       "      <th>0</th>\n",
       "      <td>0.0</td>\n",
       "      <td>0.0</td>\n",
       "      <td>0.0</td>\n",
       "      <td>0.0</td>\n",
       "      <td>0.0</td>\n",
       "      <td>0.0</td>\n",
       "      <td>0.0</td>\n",
       "      <td>0.0</td>\n",
       "      <td>0.0</td>\n",
       "      <td>0.0</td>\n",
       "      <td>...</td>\n",
       "      <td>0.0</td>\n",
       "      <td>0.0</td>\n",
       "      <td>0.0</td>\n",
       "      <td>0.0</td>\n",
       "      <td>0.0</td>\n",
       "      <td>0.0</td>\n",
       "      <td>0.0</td>\n",
       "      <td>0.0</td>\n",
       "      <td>0.0</td>\n",
       "      <td>0.0</td>\n",
       "    </tr>\n",
       "    <tr>\n",
       "      <th>1</th>\n",
       "      <td>0.0</td>\n",
       "      <td>0.0</td>\n",
       "      <td>0.0</td>\n",
       "      <td>0.0</td>\n",
       "      <td>0.0</td>\n",
       "      <td>0.0</td>\n",
       "      <td>1.0</td>\n",
       "      <td>0.0</td>\n",
       "      <td>0.0</td>\n",
       "      <td>0.0</td>\n",
       "      <td>...</td>\n",
       "      <td>0.0</td>\n",
       "      <td>0.0</td>\n",
       "      <td>0.0</td>\n",
       "      <td>0.0</td>\n",
       "      <td>0.0</td>\n",
       "      <td>0.0</td>\n",
       "      <td>0.0</td>\n",
       "      <td>0.0</td>\n",
       "      <td>0.0</td>\n",
       "      <td>0.0</td>\n",
       "    </tr>\n",
       "    <tr>\n",
       "      <th>2</th>\n",
       "      <td>0.0</td>\n",
       "      <td>0.0</td>\n",
       "      <td>0.0</td>\n",
       "      <td>0.0</td>\n",
       "      <td>0.0</td>\n",
       "      <td>0.0</td>\n",
       "      <td>0.0</td>\n",
       "      <td>0.0</td>\n",
       "      <td>0.0</td>\n",
       "      <td>0.0</td>\n",
       "      <td>...</td>\n",
       "      <td>0.0</td>\n",
       "      <td>0.0</td>\n",
       "      <td>0.0</td>\n",
       "      <td>0.0</td>\n",
       "      <td>0.0</td>\n",
       "      <td>0.0</td>\n",
       "      <td>0.0</td>\n",
       "      <td>0.0</td>\n",
       "      <td>1.0</td>\n",
       "      <td>0.0</td>\n",
       "    </tr>\n",
       "    <tr>\n",
       "      <th>3</th>\n",
       "      <td>0.0</td>\n",
       "      <td>0.0</td>\n",
       "      <td>0.0</td>\n",
       "      <td>0.0</td>\n",
       "      <td>0.0</td>\n",
       "      <td>0.0</td>\n",
       "      <td>0.0</td>\n",
       "      <td>0.0</td>\n",
       "      <td>0.0</td>\n",
       "      <td>0.0</td>\n",
       "      <td>...</td>\n",
       "      <td>0.0</td>\n",
       "      <td>0.0</td>\n",
       "      <td>0.0</td>\n",
       "      <td>0.0</td>\n",
       "      <td>0.0</td>\n",
       "      <td>0.0</td>\n",
       "      <td>0.0</td>\n",
       "      <td>0.0</td>\n",
       "      <td>0.0</td>\n",
       "      <td>0.0</td>\n",
       "    </tr>\n",
       "    <tr>\n",
       "      <th>4</th>\n",
       "      <td>0.0</td>\n",
       "      <td>1.0</td>\n",
       "      <td>0.0</td>\n",
       "      <td>0.0</td>\n",
       "      <td>0.0</td>\n",
       "      <td>0.0</td>\n",
       "      <td>0.0</td>\n",
       "      <td>0.0</td>\n",
       "      <td>0.0</td>\n",
       "      <td>0.0</td>\n",
       "      <td>...</td>\n",
       "      <td>0.0</td>\n",
       "      <td>0.0</td>\n",
       "      <td>0.0</td>\n",
       "      <td>0.0</td>\n",
       "      <td>0.0</td>\n",
       "      <td>0.0</td>\n",
       "      <td>0.0</td>\n",
       "      <td>0.0</td>\n",
       "      <td>0.0</td>\n",
       "      <td>0.0</td>\n",
       "    </tr>\n",
       "    <tr>\n",
       "      <th>...</th>\n",
       "      <td>...</td>\n",
       "      <td>...</td>\n",
       "      <td>...</td>\n",
       "      <td>...</td>\n",
       "      <td>...</td>\n",
       "      <td>...</td>\n",
       "      <td>...</td>\n",
       "      <td>...</td>\n",
       "      <td>...</td>\n",
       "      <td>...</td>\n",
       "      <td>...</td>\n",
       "      <td>...</td>\n",
       "      <td>...</td>\n",
       "      <td>...</td>\n",
       "      <td>...</td>\n",
       "      <td>...</td>\n",
       "      <td>...</td>\n",
       "      <td>...</td>\n",
       "      <td>...</td>\n",
       "      <td>...</td>\n",
       "      <td>...</td>\n",
       "    </tr>\n",
       "    <tr>\n",
       "      <th>725</th>\n",
       "      <td>0.0</td>\n",
       "      <td>0.0</td>\n",
       "      <td>0.0</td>\n",
       "      <td>0.0</td>\n",
       "      <td>0.0</td>\n",
       "      <td>0.0</td>\n",
       "      <td>0.0</td>\n",
       "      <td>0.0</td>\n",
       "      <td>1.0</td>\n",
       "      <td>0.0</td>\n",
       "      <td>...</td>\n",
       "      <td>0.0</td>\n",
       "      <td>0.0</td>\n",
       "      <td>0.0</td>\n",
       "      <td>0.0</td>\n",
       "      <td>0.0</td>\n",
       "      <td>0.0</td>\n",
       "      <td>0.0</td>\n",
       "      <td>0.0</td>\n",
       "      <td>0.0</td>\n",
       "      <td>0.0</td>\n",
       "    </tr>\n",
       "    <tr>\n",
       "      <th>726</th>\n",
       "      <td>0.0</td>\n",
       "      <td>0.0</td>\n",
       "      <td>0.0</td>\n",
       "      <td>0.0</td>\n",
       "      <td>0.0</td>\n",
       "      <td>0.0</td>\n",
       "      <td>0.0</td>\n",
       "      <td>0.0</td>\n",
       "      <td>0.0</td>\n",
       "      <td>0.0</td>\n",
       "      <td>...</td>\n",
       "      <td>0.0</td>\n",
       "      <td>0.0</td>\n",
       "      <td>0.0</td>\n",
       "      <td>0.0</td>\n",
       "      <td>0.0</td>\n",
       "      <td>0.0</td>\n",
       "      <td>0.0</td>\n",
       "      <td>0.0</td>\n",
       "      <td>0.0</td>\n",
       "      <td>0.0</td>\n",
       "    </tr>\n",
       "    <tr>\n",
       "      <th>727</th>\n",
       "      <td>0.0</td>\n",
       "      <td>0.0</td>\n",
       "      <td>0.0</td>\n",
       "      <td>0.0</td>\n",
       "      <td>0.0</td>\n",
       "      <td>0.0</td>\n",
       "      <td>0.0</td>\n",
       "      <td>0.0</td>\n",
       "      <td>0.0</td>\n",
       "      <td>0.0</td>\n",
       "      <td>...</td>\n",
       "      <td>0.0</td>\n",
       "      <td>0.0</td>\n",
       "      <td>0.0</td>\n",
       "      <td>0.0</td>\n",
       "      <td>1.0</td>\n",
       "      <td>0.0</td>\n",
       "      <td>0.0</td>\n",
       "      <td>0.0</td>\n",
       "      <td>0.0</td>\n",
       "      <td>0.0</td>\n",
       "    </tr>\n",
       "    <tr>\n",
       "      <th>729</th>\n",
       "      <td>0.0</td>\n",
       "      <td>0.0</td>\n",
       "      <td>0.0</td>\n",
       "      <td>0.0</td>\n",
       "      <td>1.0</td>\n",
       "      <td>0.0</td>\n",
       "      <td>0.0</td>\n",
       "      <td>0.0</td>\n",
       "      <td>0.0</td>\n",
       "      <td>0.0</td>\n",
       "      <td>...</td>\n",
       "      <td>0.0</td>\n",
       "      <td>0.0</td>\n",
       "      <td>0.0</td>\n",
       "      <td>0.0</td>\n",
       "      <td>0.0</td>\n",
       "      <td>0.0</td>\n",
       "      <td>0.0</td>\n",
       "      <td>0.0</td>\n",
       "      <td>0.0</td>\n",
       "      <td>0.0</td>\n",
       "    </tr>\n",
       "    <tr>\n",
       "      <th>730</th>\n",
       "      <td>0.0</td>\n",
       "      <td>0.0</td>\n",
       "      <td>0.0</td>\n",
       "      <td>0.0</td>\n",
       "      <td>0.0</td>\n",
       "      <td>0.0</td>\n",
       "      <td>0.0</td>\n",
       "      <td>0.0</td>\n",
       "      <td>1.0</td>\n",
       "      <td>0.0</td>\n",
       "      <td>...</td>\n",
       "      <td>0.0</td>\n",
       "      <td>0.0</td>\n",
       "      <td>0.0</td>\n",
       "      <td>0.0</td>\n",
       "      <td>0.0</td>\n",
       "      <td>0.0</td>\n",
       "      <td>0.0</td>\n",
       "      <td>0.0</td>\n",
       "      <td>0.0</td>\n",
       "      <td>0.0</td>\n",
       "    </tr>\n",
       "  </tbody>\n",
       "</table>\n",
       "<p>673 rows × 22 columns</p>\n",
       "</div>"
      ],
      "text/plain": [
       "     1.753229  1.786340  1.818446  1.849604  1.879864  1.909274  1.937879  \\\n",
       "0         0.0       0.0       0.0       0.0       0.0       0.0       0.0   \n",
       "1         0.0       0.0       0.0       0.0       0.0       0.0       1.0   \n",
       "2         0.0       0.0       0.0       0.0       0.0       0.0       0.0   \n",
       "3         0.0       0.0       0.0       0.0       0.0       0.0       0.0   \n",
       "4         0.0       1.0       0.0       0.0       0.0       0.0       0.0   \n",
       "..        ...       ...       ...       ...       ...       ...       ...   \n",
       "725       0.0       0.0       0.0       0.0       0.0       0.0       0.0   \n",
       "726       0.0       0.0       0.0       0.0       0.0       0.0       0.0   \n",
       "727       0.0       0.0       0.0       0.0       0.0       0.0       0.0   \n",
       "729       0.0       0.0       0.0       0.0       1.0       0.0       0.0   \n",
       "730       0.0       0.0       0.0       0.0       0.0       0.0       0.0   \n",
       "\n",
       "     1.965720  1.992836  2.019261  ...  2.094713  2.118685  2.142112  \\\n",
       "0         0.0       0.0       0.0  ...       0.0       0.0       0.0   \n",
       "1         0.0       0.0       0.0  ...       0.0       0.0       0.0   \n",
       "2         0.0       0.0       0.0  ...       0.0       0.0       0.0   \n",
       "3         0.0       0.0       0.0  ...       0.0       0.0       0.0   \n",
       "4         0.0       0.0       0.0  ...       0.0       0.0       0.0   \n",
       "..        ...       ...       ...  ...       ...       ...       ...   \n",
       "725       0.0       1.0       0.0  ...       0.0       0.0       0.0   \n",
       "726       0.0       0.0       0.0  ...       0.0       0.0       0.0   \n",
       "727       0.0       0.0       0.0  ...       0.0       0.0       0.0   \n",
       "729       0.0       0.0       0.0  ...       0.0       0.0       0.0   \n",
       "730       0.0       1.0       0.0  ...       0.0       0.0       0.0   \n",
       "\n",
       "     2.165017  2.187422  2.209348  2.230814  2.251840  2.272441  2.312438  \n",
       "0         0.0       0.0       0.0       0.0       0.0       0.0       0.0  \n",
       "1         0.0       0.0       0.0       0.0       0.0       0.0       0.0  \n",
       "2         0.0       0.0       0.0       0.0       0.0       1.0       0.0  \n",
       "3         0.0       0.0       0.0       0.0       0.0       0.0       0.0  \n",
       "4         0.0       0.0       0.0       0.0       0.0       0.0       0.0  \n",
       "..        ...       ...       ...       ...       ...       ...       ...  \n",
       "725       0.0       0.0       0.0       0.0       0.0       0.0       0.0  \n",
       "726       0.0       0.0       0.0       0.0       0.0       0.0       0.0  \n",
       "727       0.0       1.0       0.0       0.0       0.0       0.0       0.0  \n",
       "729       0.0       0.0       0.0       0.0       0.0       0.0       0.0  \n",
       "730       0.0       0.0       0.0       0.0       0.0       0.0       0.0  \n",
       "\n",
       "[673 rows x 22 columns]"
      ]
     },
     "execution_count": 182,
     "metadata": {},
     "output_type": "execute_result"
    }
   ],
   "source": [
    "Rating_cat = pd.get_dummies(df['Rating_ihs'], drop_first=True, dtype=float)\n",
    "Rating_cat"
   ]
  },
  {
   "cell_type": "code",
   "execution_count": 183,
   "metadata": {},
   "outputs": [
    {
     "data": {
      "text/plain": [
       "0    4.969862\n",
       "1    5.164819\n",
       "2    5.135833\n",
       "3    5.030481\n",
       "4    5.433741\n",
       "Name: avg_salary_ihs, dtype: float64"
      ]
     },
     "execution_count": 183,
     "metadata": {},
     "output_type": "execute_result"
    }
   ],
   "source": [
    "df['avg_salary_ihs'].head()"
   ]
  },
  {
   "cell_type": "code",
   "execution_count": 144,
   "metadata": {},
   "outputs": [
    {
     "name": "stdout",
     "output_type": "stream",
     "text": [
      "(673, 22)\n",
      "(673,) \n",
      "\n"
     ]
    }
   ],
   "source": [
    "import pandas as pd\n",
    "\n",
    "cat_rating = Rating_cat.to_numpy()\n",
    "\n",
    "# Rating_cat = int(Rating_cat)\n",
    "\n",
    "\n",
    "# Now 'array_from_table' is a NumPy array\n",
    "print(cat_rating.shape)\n",
    "print(df['avg_salary_ihs'].shape,'\\n')"
   ]
  },
  {
   "cell_type": "code",
   "execution_count": 197,
   "metadata": {},
   "outputs": [
    {
     "ename": "ValueError",
     "evalue": "shapes (673,22) and (673,1) not aligned: 22 (dim 1) != 673 (dim 0)",
     "output_type": "error",
     "traceback": [
      "\u001b[0;31m---------------------------------------------------------------------------\u001b[0m",
      "\u001b[0;31mValueError\u001b[0m                                Traceback (most recent call last)",
      "\u001b[0;32m<ipython-input-197-4f38ee9c95c7>\u001b[0m in \u001b[0;36m<module>\u001b[0;34m\u001b[0m\n\u001b[1;32m      2\u001b[0m \u001b[0my\u001b[0m \u001b[0;34m=\u001b[0m \u001b[0mdf\u001b[0m\u001b[0;34m[\u001b[0m\u001b[0;34m'avg_salary_ihs'\u001b[0m\u001b[0;34m]\u001b[0m\u001b[0;34m.\u001b[0m\u001b[0mto_numpy\u001b[0m\u001b[0;34m(\u001b[0m\u001b[0;34m)\u001b[0m\u001b[0;34m.\u001b[0m\u001b[0mreshape\u001b[0m\u001b[0;34m(\u001b[0m\u001b[0;36m1\u001b[0m\u001b[0;34m,\u001b[0m\u001b[0;34m-\u001b[0m\u001b[0;36m1\u001b[0m\u001b[0;34m)\u001b[0m\u001b[0;34m\u001b[0m\u001b[0;34m\u001b[0m\u001b[0m\n\u001b[1;32m      3\u001b[0m \u001b[0;34m\u001b[0m\u001b[0m\n\u001b[0;32m----> 4\u001b[0;31m \u001b[0mcoef\u001b[0m \u001b[0;34m=\u001b[0m \u001b[0mslr\u001b[0m\u001b[0;34m(\u001b[0m\u001b[0mx\u001b[0m\u001b[0;34m,\u001b[0m\u001b[0my\u001b[0m\u001b[0;34m)\u001b[0m \u001b[0;31m# Single Linear Regression\u001b[0m\u001b[0;34m\u001b[0m\u001b[0;34m\u001b[0m\u001b[0m\n\u001b[0m\u001b[1;32m      5\u001b[0m \u001b[0mprint\u001b[0m\u001b[0;34m(\u001b[0m\u001b[0;34m'Intercept: '\u001b[0m\u001b[0;34m,\u001b[0m\u001b[0mcoef\u001b[0m\u001b[0;34m[\u001b[0m\u001b[0;34m'b0'\u001b[0m\u001b[0;34m]\u001b[0m\u001b[0;34m,\u001b[0m \u001b[0;34m'\\n'\u001b[0m\u001b[0;34m,\u001b[0m \u001b[0;34m' Slope: '\u001b[0m\u001b[0;34m,\u001b[0m \u001b[0mcoef\u001b[0m\u001b[0;34m[\u001b[0m\u001b[0;34m'b1'\u001b[0m\u001b[0;34m]\u001b[0m\u001b[0;34m)\u001b[0m\u001b[0;34m\u001b[0m\u001b[0;34m\u001b[0m\u001b[0m\n\u001b[1;32m      6\u001b[0m \u001b[0;34m\u001b[0m\u001b[0m\n",
      "\u001b[0;32m<ipython-input-65-ad0a13a0e204>\u001b[0m in \u001b[0;36mslr\u001b[0;34m(x, y)\u001b[0m\n\u001b[1;32m      2\u001b[0m     \u001b[0mx_bar\u001b[0m \u001b[0;34m=\u001b[0m \u001b[0mnp\u001b[0m\u001b[0;34m.\u001b[0m\u001b[0mmean\u001b[0m\u001b[0;34m(\u001b[0m\u001b[0mx\u001b[0m\u001b[0;34m)\u001b[0m \u001b[0;31m# Average of x's\u001b[0m\u001b[0;34m\u001b[0m\u001b[0;34m\u001b[0m\u001b[0m\n\u001b[1;32m      3\u001b[0m     \u001b[0my_bar\u001b[0m \u001b[0;34m=\u001b[0m \u001b[0mnp\u001b[0m\u001b[0;34m.\u001b[0m\u001b[0mmean\u001b[0m\u001b[0;34m(\u001b[0m\u001b[0my\u001b[0m\u001b[0;34m)\u001b[0m \u001b[0;31m# Average of y's\u001b[0m\u001b[0;34m\u001b[0m\u001b[0;34m\u001b[0m\u001b[0m\n\u001b[0;32m----> 4\u001b[0;31m     \u001b[0mb1\u001b[0m \u001b[0;34m=\u001b[0m \u001b[0mnp\u001b[0m\u001b[0;34m.\u001b[0m\u001b[0minner\u001b[0m\u001b[0;34m(\u001b[0m\u001b[0mx\u001b[0m\u001b[0;34m-\u001b[0m\u001b[0mx_bar\u001b[0m\u001b[0;34m,\u001b[0m\u001b[0my\u001b[0m\u001b[0;34m-\u001b[0m\u001b[0my_bar\u001b[0m\u001b[0;34m)\u001b[0m\u001b[0;34m/\u001b[0m\u001b[0mnp\u001b[0m\u001b[0;34m.\u001b[0m\u001b[0minner\u001b[0m\u001b[0;34m(\u001b[0m\u001b[0mx\u001b[0m\u001b[0;34m-\u001b[0m\u001b[0mx_bar\u001b[0m\u001b[0;34m,\u001b[0m\u001b[0mx\u001b[0m\u001b[0;34m)\u001b[0m \u001b[0;31m# Slope coefficient\u001b[0m\u001b[0;34m\u001b[0m\u001b[0;34m\u001b[0m\u001b[0m\n\u001b[0m\u001b[1;32m      5\u001b[0m     \u001b[0mb0\u001b[0m \u001b[0;34m=\u001b[0m \u001b[0my_bar\u001b[0m \u001b[0;34m-\u001b[0m \u001b[0mb1\u001b[0m\u001b[0;34m*\u001b[0m\u001b[0mx_bar\u001b[0m \u001b[0;31m# Intercept coefficient\u001b[0m\u001b[0;34m\u001b[0m\u001b[0;34m\u001b[0m\u001b[0m\n\u001b[1;32m      6\u001b[0m     \u001b[0my_hat\u001b[0m \u001b[0;34m=\u001b[0m \u001b[0mb0\u001b[0m \u001b[0;34m+\u001b[0m \u001b[0mb1\u001b[0m\u001b[0;34m*\u001b[0m\u001b[0mx\u001b[0m   \u001b[0;31m# Compute predictions\u001b[0m\u001b[0;34m\u001b[0m\u001b[0;34m\u001b[0m\u001b[0m\n",
      "\u001b[0;32m<__array_function__ internals>\u001b[0m in \u001b[0;36minner\u001b[0;34m(*args, **kwargs)\u001b[0m\n",
      "\u001b[0;31mValueError\u001b[0m: shapes (673,22) and (673,1) not aligned: 22 (dim 1) != 673 (dim 0)"
     ]
    }
   ],
   "source": [
    "x = cat_rating.reshape(673,22)\n",
    "y = df['avg_salary_ihs'].to_numpy().reshape(1,-1)\n",
    "\n",
    "coef = slr(x,y) # Single Linear Regression\n",
    "print('Intercept: ',coef['b0'], '\\n', ' Slope: ', coef['b1']) \n",
    "\n",
    "y_hat = coef['b0']+coef['b1']*x # Compute predictions\n",
    "\n",
    "# Scatter plot of fit:\n",
    "plt.scatter(x,y,label='Data')\n",
    "plt.plot(x,y_hat,label='Regression Line',color='black')\n",
    "plt.xlabel(\"Rating (categorical), ihs\")\n",
    "plt.ylabel(\"avg_salary, ihs\")\n",
    "plt.legend(loc='upper right')\n",
    "plt.title('Linear Regression')\n",
    "\n",
    "plt.show()"
   ]
  },
  {
   "cell_type": "code",
   "execution_count": 198,
   "metadata": {},
   "outputs": [],
   "source": [
    "# I'm not able to figure out what to do in this case. I am running into a problem where my one-hot encoded\n",
    "# variable of Rating has 22 columns and 673 rows, whereas my avg_salary data only has 1 column with 673 rows.\n",
    "# Python isn't letting me run a regression on these variables because their shapes are mismatched. Not really sure\n",
    "# how to proceed from here..."
   ]
  },
  {
   "cell_type": "code",
   "execution_count": 199,
   "metadata": {},
   "outputs": [
    {
     "data": {
      "text/html": [
       "<div>\n",
       "<style scoped>\n",
       "    .dataframe tbody tr th:only-of-type {\n",
       "        vertical-align: middle;\n",
       "    }\n",
       "\n",
       "    .dataframe tbody tr th {\n",
       "        vertical-align: top;\n",
       "    }\n",
       "\n",
       "    .dataframe thead th {\n",
       "        text-align: right;\n",
       "    }\n",
       "</style>\n",
       "<table border=\"1\" class=\"dataframe\">\n",
       "  <thead>\n",
       "    <tr style=\"text-align: right;\">\n",
       "      <th></th>\n",
       "      <th>Accounting &amp; Legal</th>\n",
       "      <th>Aerospace &amp; Defense</th>\n",
       "      <th>Agriculture &amp; Forestry</th>\n",
       "      <th>Arts, Entertainment &amp; Recreation</th>\n",
       "      <th>Biotech &amp; Pharmaceuticals</th>\n",
       "      <th>Business Services</th>\n",
       "      <th>Consumer Services</th>\n",
       "      <th>Education</th>\n",
       "      <th>Finance</th>\n",
       "      <th>Government</th>\n",
       "      <th>...</th>\n",
       "      <th>Manufacturing</th>\n",
       "      <th>Media</th>\n",
       "      <th>Mining &amp; Metals</th>\n",
       "      <th>Non-Profit</th>\n",
       "      <th>Oil, Gas, Energy &amp; Utilities</th>\n",
       "      <th>Real Estate</th>\n",
       "      <th>Retail</th>\n",
       "      <th>Telecommunications</th>\n",
       "      <th>Transportation &amp; Logistics</th>\n",
       "      <th>Travel &amp; Tourism</th>\n",
       "    </tr>\n",
       "  </thead>\n",
       "  <tbody>\n",
       "    <tr>\n",
       "      <th>0</th>\n",
       "      <td>0.0</td>\n",
       "      <td>1.0</td>\n",
       "      <td>0.0</td>\n",
       "      <td>0.0</td>\n",
       "      <td>0.0</td>\n",
       "      <td>0.0</td>\n",
       "      <td>0.0</td>\n",
       "      <td>0.0</td>\n",
       "      <td>0.0</td>\n",
       "      <td>0.0</td>\n",
       "      <td>...</td>\n",
       "      <td>0.0</td>\n",
       "      <td>0.0</td>\n",
       "      <td>0.0</td>\n",
       "      <td>0.0</td>\n",
       "      <td>0.0</td>\n",
       "      <td>0.0</td>\n",
       "      <td>0.0</td>\n",
       "      <td>0.0</td>\n",
       "      <td>0.0</td>\n",
       "      <td>0.0</td>\n",
       "    </tr>\n",
       "    <tr>\n",
       "      <th>1</th>\n",
       "      <td>0.0</td>\n",
       "      <td>0.0</td>\n",
       "      <td>0.0</td>\n",
       "      <td>0.0</td>\n",
       "      <td>0.0</td>\n",
       "      <td>0.0</td>\n",
       "      <td>0.0</td>\n",
       "      <td>0.0</td>\n",
       "      <td>0.0</td>\n",
       "      <td>0.0</td>\n",
       "      <td>...</td>\n",
       "      <td>0.0</td>\n",
       "      <td>0.0</td>\n",
       "      <td>0.0</td>\n",
       "      <td>0.0</td>\n",
       "      <td>0.0</td>\n",
       "      <td>0.0</td>\n",
       "      <td>0.0</td>\n",
       "      <td>0.0</td>\n",
       "      <td>0.0</td>\n",
       "      <td>0.0</td>\n",
       "    </tr>\n",
       "    <tr>\n",
       "      <th>2</th>\n",
       "      <td>0.0</td>\n",
       "      <td>0.0</td>\n",
       "      <td>0.0</td>\n",
       "      <td>0.0</td>\n",
       "      <td>0.0</td>\n",
       "      <td>1.0</td>\n",
       "      <td>0.0</td>\n",
       "      <td>0.0</td>\n",
       "      <td>0.0</td>\n",
       "      <td>0.0</td>\n",
       "      <td>...</td>\n",
       "      <td>0.0</td>\n",
       "      <td>0.0</td>\n",
       "      <td>0.0</td>\n",
       "      <td>0.0</td>\n",
       "      <td>0.0</td>\n",
       "      <td>0.0</td>\n",
       "      <td>0.0</td>\n",
       "      <td>0.0</td>\n",
       "      <td>0.0</td>\n",
       "      <td>0.0</td>\n",
       "    </tr>\n",
       "    <tr>\n",
       "      <th>3</th>\n",
       "      <td>0.0</td>\n",
       "      <td>0.0</td>\n",
       "      <td>0.0</td>\n",
       "      <td>0.0</td>\n",
       "      <td>0.0</td>\n",
       "      <td>0.0</td>\n",
       "      <td>0.0</td>\n",
       "      <td>0.0</td>\n",
       "      <td>0.0</td>\n",
       "      <td>0.0</td>\n",
       "      <td>...</td>\n",
       "      <td>0.0</td>\n",
       "      <td>0.0</td>\n",
       "      <td>0.0</td>\n",
       "      <td>0.0</td>\n",
       "      <td>1.0</td>\n",
       "      <td>0.0</td>\n",
       "      <td>0.0</td>\n",
       "      <td>0.0</td>\n",
       "      <td>0.0</td>\n",
       "      <td>0.0</td>\n",
       "    </tr>\n",
       "    <tr>\n",
       "      <th>4</th>\n",
       "      <td>0.0</td>\n",
       "      <td>0.0</td>\n",
       "      <td>0.0</td>\n",
       "      <td>0.0</td>\n",
       "      <td>0.0</td>\n",
       "      <td>1.0</td>\n",
       "      <td>0.0</td>\n",
       "      <td>0.0</td>\n",
       "      <td>0.0</td>\n",
       "      <td>0.0</td>\n",
       "      <td>...</td>\n",
       "      <td>0.0</td>\n",
       "      <td>0.0</td>\n",
       "      <td>0.0</td>\n",
       "      <td>0.0</td>\n",
       "      <td>0.0</td>\n",
       "      <td>0.0</td>\n",
       "      <td>0.0</td>\n",
       "      <td>0.0</td>\n",
       "      <td>0.0</td>\n",
       "      <td>0.0</td>\n",
       "    </tr>\n",
       "  </tbody>\n",
       "</table>\n",
       "<p>5 rows × 23 columns</p>\n",
       "</div>"
      ],
      "text/plain": [
       "   Accounting & Legal  Aerospace & Defense  Agriculture & Forestry  \\\n",
       "0                 0.0                  1.0                     0.0   \n",
       "1                 0.0                  0.0                     0.0   \n",
       "2                 0.0                  0.0                     0.0   \n",
       "3                 0.0                  0.0                     0.0   \n",
       "4                 0.0                  0.0                     0.0   \n",
       "\n",
       "   Arts, Entertainment & Recreation  Biotech & Pharmaceuticals  \\\n",
       "0                               0.0                        0.0   \n",
       "1                               0.0                        0.0   \n",
       "2                               0.0                        0.0   \n",
       "3                               0.0                        0.0   \n",
       "4                               0.0                        0.0   \n",
       "\n",
       "   Business Services  Consumer Services  Education  Finance  Government  ...  \\\n",
       "0                0.0                0.0        0.0      0.0         0.0  ...   \n",
       "1                0.0                0.0        0.0      0.0         0.0  ...   \n",
       "2                1.0                0.0        0.0      0.0         0.0  ...   \n",
       "3                0.0                0.0        0.0      0.0         0.0  ...   \n",
       "4                1.0                0.0        0.0      0.0         0.0  ...   \n",
       "\n",
       "   Manufacturing  Media  Mining & Metals  Non-Profit  \\\n",
       "0            0.0    0.0              0.0         0.0   \n",
       "1            0.0    0.0              0.0         0.0   \n",
       "2            0.0    0.0              0.0         0.0   \n",
       "3            0.0    0.0              0.0         0.0   \n",
       "4            0.0    0.0              0.0         0.0   \n",
       "\n",
       "   Oil, Gas, Energy & Utilities  Real Estate  Retail  Telecommunications  \\\n",
       "0                           0.0          0.0     0.0                 0.0   \n",
       "1                           0.0          0.0     0.0                 0.0   \n",
       "2                           0.0          0.0     0.0                 0.0   \n",
       "3                           1.0          0.0     0.0                 0.0   \n",
       "4                           0.0          0.0     0.0                 0.0   \n",
       "\n",
       "   Transportation & Logistics  Travel & Tourism  \n",
       "0                         0.0               0.0  \n",
       "1                         0.0               0.0  \n",
       "2                         0.0               0.0  \n",
       "3                         0.0               0.0  \n",
       "4                         0.0               0.0  \n",
       "\n",
       "[5 rows x 23 columns]"
      ]
     },
     "execution_count": 199,
     "metadata": {},
     "output_type": "execute_result"
    }
   ],
   "source": [
    "# Q2 part 6:\n",
    "\n",
    "y = df['avg_salary_ihs'] # Create target variable vector\n",
    "\n",
    "# Create feature matrix with sector\n",
    "X = pd.get_dummies(df['Sector'], drop_first=True, dtype=float)\n",
    "X.head()\n",
    "\n",
    "# from sklearn import tree \n",
    "\n",
    "# model = tree.DecisionTreeRegressor(max_depth=20) # Fit the classifier\n",
    "# cart = model.fit(X_train, y_train)\n",
    "# tree.plot_tree(cart,filled=True) \n",
    "# plt.show()\n",
    "\n",
    "# ## Make Predictions on the Test Set\n",
    "# y_hat_cart = cart.predict(X_test)\n",
    "# residuals_cart = y_test - y_hat_cart\n",
    "\n",
    "\n",
    "# ## Metrics:\n",
    "# SSE_cart = np.sum( (y_test-y_hat_cart)**2 )\n",
    "# MSE_cart = (1/N_test)*np.sum( (y_test-y_hat_cart)**2 )\n",
    "# RMSE_cart = (SSE_cart/N_test)**(1/2)\n",
    "# print(RMSE_cart,'\\n')\n",
    "# R2_cart = 1 - SSE_cart/TSS\n",
    "# print(R2_cart,'\\n')"
   ]
  },
  {
   "cell_type": "code",
   "execution_count": 200,
   "metadata": {},
   "outputs": [],
   "source": [
    "# Once again, my problem is that my one-hot-encoded variable has a shape 2D shape instead of 1D, but I am not\n",
    "# able to convert it to 1D because then the number of rows greatly outnumbers the number of rows in avg_salary.\n",
    "# Ultimately, I can only run regression/trees on avg_salary and rating because the shapes of both of these varaibles\n",
    "# are equivalent. I will ask in office hours how to overcome this problem."
   ]
  },
  {
   "cell_type": "code",
   "execution_count": 206,
   "metadata": {},
   "outputs": [
    {
     "ename": "ValueError",
     "evalue": "Expected 2D array, got 1D array instead:\narray=[2.0947125 2.2518396 1.7863402 2.0192606 2.0701692 2.2518396 2.2518396\n 1.9928358 2.0947125 2.0450282 1.909274  1.8798636 1.9378793 2.0450282\n 2.0192606 1.9657204 1.8798636 1.8496037 2.0701692 1.9928358 2.142112\n 2.2518396 1.7863402 2.118685  1.8798636 2.1650167 2.0701692 2.2518396\n 2.0947125 2.0192606 1.8496037 2.118685  2.0192606 2.0947125 2.1874218\n 1.8798636 1.9657204 2.0947125 2.0450282 1.7532289 2.118685  2.1874218\n 2.1874218 2.0701692 1.8798636 2.0192606 1.9657204 1.8798636 2.1874218\n 1.8798636 2.2308142 2.0450282 2.0947125 2.0192606 2.142112  1.909274\n 1.9928358 2.0701692 1.9378793 1.8184465 2.0192606 1.9378793 2.0947125\n 2.0192606 1.9657204 2.118685  2.142112  1.7190518 2.2308142 2.0701692\n 2.142112  2.0450282 2.1874218 2.118685  1.9378793 2.142112  2.0192606\n 2.0192606 2.0192606 2.0192606 2.2093477 2.0192606 1.9928358 2.1650167\n 1.9378793 1.7190518 2.0450282 2.0701692 1.9928358 2.2518396 2.1874218\n 2.0450282 2.142112  2.0450282 1.9378793 1.9378793 1.8798636 1.9657204\n 1.8798636 1.8798636 2.1874218 2.118685  1.9928358 1.9657204 2.0450282\n 2.2093477 2.3124382 2.118685  2.0450282 1.8496037 2.1874218 1.7190518\n 2.0450282 2.0947125 1.9657204 2.142112  2.2518396 1.9928358 2.2093477\n 2.0701692 1.8798636 2.0701692 1.8496037 2.0192606 1.9657204 2.118685\n 2.0192606 2.0701692 2.1650167 2.1650167 1.8798636 2.0450282 1.909274\n 1.7863402 2.0701692 2.118685  2.1650167 1.9378793 1.8798636 2.0192606\n 2.1650167 2.118685  1.909274  1.8184465 2.2093477 1.9928358 2.0192606\n 2.2518396 2.0450282 2.142112  1.8184465 2.2518396 2.0450282 1.909274\n 1.8798636 1.9378793 2.0701692 1.9657204 1.9928358 2.0701692 2.0701692\n 2.0450282 1.9928358 2.0192606 1.9378793 2.0947125 2.142112  1.7190518\n 1.9378793 2.0947125 1.9928358 2.0192606 1.8798636 1.7863402 2.1874218\n 2.0450282 2.142112  1.7863402 2.1874218 2.0450282 2.0450282 2.0701692\n 2.0192606 2.0450282 2.1650167 1.9657204 2.0947125 1.9657204 2.0450282\n 2.2308142 1.8184465 1.9657204 2.0701692 1.9657204 2.0192606 2.0947125\n 2.118685  2.0947125 2.0947125 2.0192606 1.9657204 2.0192606 1.8496037\n 1.909274  2.1650167 1.9928358 1.7863402 1.8496037 2.0947125 2.0450282\n 1.9928358 1.8798636 1.8496037 1.8184465 2.0947125 2.1874218 2.0450282\n 1.909274  2.0450282 2.1650167 2.1874218 2.1650167 1.8184465 2.0947125\n 2.0701692 2.2518396 1.8184465 1.9378793 1.8496037 2.1874218 2.2518396\n 1.9657204 1.9928358 1.8496037 1.8184465 1.8798636 2.0450282 2.2093477\n 2.0192606 1.8496037 2.2518396 2.0192606 1.8184465 1.9928358 2.0701692\n 2.2724414 1.8798636 2.1650167 1.909274  1.9657204 2.0450282 1.9657204\n 2.0450282 2.3124382 2.0450282 2.0192606 2.0192606 2.0701692 2.142112\n 1.909274  1.9378793 2.2724414 2.2518396 2.0192606 1.9657204 2.142112\n 1.8798636 2.2093477 2.0192606 1.9657204 1.8496037 1.8496037 2.0450282\n 2.0701692 2.1874218 1.9657204 2.0192606 1.8496037 1.8496037 1.9657204\n 1.9657204 2.0192606 2.0947125 1.9928358 2.0450282 2.1874218 1.9378793\n 2.1650167 1.8496037 2.0450282 1.9928358 2.0192606 2.1874218 2.0701692\n 2.0701692 1.7532289 2.2518396 2.0701692 1.909274  1.7863402 2.142112\n 2.0450282 1.7190518 2.0701692 2.0450282 2.2308142 1.9657204 2.0450282\n 2.0947125 2.0192606 1.8798636 2.1874218 1.8798636 2.2724414 2.0450282\n 2.1874218 1.9657204 2.0192606 1.9928358 2.1874218 2.0450282 2.2724414\n 1.909274  2.0947125 2.0701692 1.9657204 1.909274  2.0192606 2.0701692\n 1.8496037 2.2093477 1.9378793 1.8798636 2.0450282 2.0701692 1.7190518\n 2.3124382 2.0701692 1.909274  2.2518396 1.7863402 1.7863402 1.9378793\n 2.0192606 2.1874218 2.1874218 2.1650167 2.2518396 1.9928358 2.0192606\n 1.8496037 2.0947125 1.9928358 2.0701692 1.9657204 2.142112  1.9928358\n 2.0701692 2.0947125 2.2518396 2.0192606 2.0192606 2.1650167 2.142112\n 1.9657204 2.2724414 2.0450282 2.1650167 1.909274  2.1874218 1.8496037\n 2.0947125 2.0450282 1.9928358 1.909274  1.9928358 1.9657204 2.0701692\n 2.0701692 2.0947125 1.9928358 2.0450282 2.0947125 2.1650167 1.909274\n 2.0701692 1.909274  2.0701692 2.2518396 2.0192606 2.0701692 2.0947125\n 1.9378793 2.142112  2.2518396 1.8798636 2.0701692 1.8184465 1.9657204\n 2.118685  2.0701692 1.8798636 1.7863402 1.7190518 2.0450282 1.9378793\n 1.8184465 2.1650167 2.118685  1.9378793 2.0701692 2.0192606 1.8798636\n 1.8496037 1.9378793 1.7532289 1.9657204 1.9378793 2.118685  1.8184465\n 2.0450282 1.9657204 1.8798636 2.0450282 2.2518396 2.1650167 1.909274\n 1.7863402 2.2518396 2.1650167 1.9378793 1.9928358 1.9928358 2.2308142\n 2.0450282 2.1650167 1.9657204 2.0701692 2.0947125 2.118685  1.9657204\n 2.0947125 1.909274  2.1650167 2.1874218 1.9928358 2.0947125 1.9657204\n 2.0701692 1.8496037 2.0192606 1.7863402 2.0450282 1.9378793 2.0701692\n 2.0192606 2.0450282 2.1874218 2.0192606 2.0701692 1.7863402 1.9378793\n 1.9928358 1.7863402 1.909274  1.8496037 2.0701692 1.9657204 2.0450282\n 2.1650167 2.142112  2.0450282 1.9928358 1.8184465 2.2518396 2.0947125\n 2.142112  2.1650167 2.118685  1.9657204 1.9378793 2.3124382 1.909274\n 1.909274  1.8798636 1.7532289 2.0450282 1.8798636 2.2518396 2.0450282\n 2.0701692 2.2308142 1.909274  2.1650167 2.0701692 2.0192606 1.9657204\n 1.9378793 2.0450282 2.1650167 2.0450282 1.8184465 2.0701692 1.9657204\n 2.2724414 1.9657204 2.1650167 2.0701692 2.2518396 1.9378793 2.1874218\n 2.0947125 2.0701692 1.8184465 1.7863402 2.3124382 2.142112  2.0947125\n 2.1650167 2.0947125 2.0450282 2.1874218 2.0947125 1.9378793 2.0192606\n 1.7190518 1.8798636 2.0701692 1.9928358 2.118685  2.0947125 1.9928358\n 1.9378793 1.9928358 1.9378793 1.9657204 2.0192606 1.909274 ].\nReshape your data either using array.reshape(-1, 1) if your data has a single feature or array.reshape(1, -1) if it contains a single sample.",
     "output_type": "error",
     "traceback": [
      "\u001b[0;31m---------------------------------------------------------------------------\u001b[0m",
      "\u001b[0;31mValueError\u001b[0m                                Traceback (most recent call last)",
      "\u001b[0;32m<ipython-input-206-6316ecabf40b>\u001b[0m in \u001b[0;36m<module>\u001b[0;34m\u001b[0m\n\u001b[1;32m      9\u001b[0m \u001b[0;34m\u001b[0m\u001b[0m\n\u001b[1;32m     10\u001b[0m \u001b[0mmodel\u001b[0m \u001b[0;34m=\u001b[0m \u001b[0mtree\u001b[0m\u001b[0;34m.\u001b[0m\u001b[0mDecisionTreeRegressor\u001b[0m\u001b[0;34m(\u001b[0m\u001b[0mmax_depth\u001b[0m\u001b[0;34m=\u001b[0m\u001b[0;36m20\u001b[0m\u001b[0;34m)\u001b[0m \u001b[0;31m# Fit the classifier\u001b[0m\u001b[0;34m\u001b[0m\u001b[0;34m\u001b[0m\u001b[0m\n\u001b[0;32m---> 11\u001b[0;31m \u001b[0mcart\u001b[0m \u001b[0;34m=\u001b[0m \u001b[0mmodel\u001b[0m\u001b[0;34m.\u001b[0m\u001b[0mfit\u001b[0m\u001b[0;34m(\u001b[0m\u001b[0mX_train\u001b[0m\u001b[0;34m,\u001b[0m \u001b[0my_train\u001b[0m\u001b[0;34m)\u001b[0m\u001b[0;34m\u001b[0m\u001b[0;34m\u001b[0m\u001b[0m\n\u001b[0m\u001b[1;32m     12\u001b[0m \u001b[0mtree\u001b[0m\u001b[0;34m.\u001b[0m\u001b[0mplot_tree\u001b[0m\u001b[0;34m(\u001b[0m\u001b[0mcart\u001b[0m\u001b[0;34m,\u001b[0m\u001b[0mfilled\u001b[0m\u001b[0;34m=\u001b[0m\u001b[0;32mTrue\u001b[0m\u001b[0;34m)\u001b[0m\u001b[0;34m\u001b[0m\u001b[0;34m\u001b[0m\u001b[0m\n\u001b[1;32m     13\u001b[0m \u001b[0mplt\u001b[0m\u001b[0;34m.\u001b[0m\u001b[0mshow\u001b[0m\u001b[0;34m(\u001b[0m\u001b[0;34m)\u001b[0m\u001b[0;34m\u001b[0m\u001b[0;34m\u001b[0m\u001b[0m\n",
      "\u001b[0;32m/apps/software/standard/compiler/gcc/9.2.0/jupyter_conda/2020.11-py3.8/lib/python3.8/site-packages/sklearn/tree/_classes.py\u001b[0m in \u001b[0;36mfit\u001b[0;34m(self, X, y, sample_weight, check_input, X_idx_sorted)\u001b[0m\n\u001b[1;32m   1240\u001b[0m         \"\"\"\n\u001b[1;32m   1241\u001b[0m \u001b[0;34m\u001b[0m\u001b[0m\n\u001b[0;32m-> 1242\u001b[0;31m         super().fit(\n\u001b[0m\u001b[1;32m   1243\u001b[0m             \u001b[0mX\u001b[0m\u001b[0;34m,\u001b[0m \u001b[0my\u001b[0m\u001b[0;34m,\u001b[0m\u001b[0;34m\u001b[0m\u001b[0;34m\u001b[0m\u001b[0m\n\u001b[1;32m   1244\u001b[0m             \u001b[0msample_weight\u001b[0m\u001b[0;34m=\u001b[0m\u001b[0msample_weight\u001b[0m\u001b[0;34m,\u001b[0m\u001b[0;34m\u001b[0m\u001b[0;34m\u001b[0m\u001b[0m\n",
      "\u001b[0;32m/apps/software/standard/compiler/gcc/9.2.0/jupyter_conda/2020.11-py3.8/lib/python3.8/site-packages/sklearn/tree/_classes.py\u001b[0m in \u001b[0;36mfit\u001b[0;34m(self, X, y, sample_weight, check_input, X_idx_sorted)\u001b[0m\n\u001b[1;32m    154\u001b[0m             \u001b[0mcheck_X_params\u001b[0m \u001b[0;34m=\u001b[0m \u001b[0mdict\u001b[0m\u001b[0;34m(\u001b[0m\u001b[0mdtype\u001b[0m\u001b[0;34m=\u001b[0m\u001b[0mDTYPE\u001b[0m\u001b[0;34m,\u001b[0m \u001b[0maccept_sparse\u001b[0m\u001b[0;34m=\u001b[0m\u001b[0;34m\"csc\"\u001b[0m\u001b[0;34m)\u001b[0m\u001b[0;34m\u001b[0m\u001b[0;34m\u001b[0m\u001b[0m\n\u001b[1;32m    155\u001b[0m             \u001b[0mcheck_y_params\u001b[0m \u001b[0;34m=\u001b[0m \u001b[0mdict\u001b[0m\u001b[0;34m(\u001b[0m\u001b[0mensure_2d\u001b[0m\u001b[0;34m=\u001b[0m\u001b[0;32mFalse\u001b[0m\u001b[0;34m,\u001b[0m \u001b[0mdtype\u001b[0m\u001b[0;34m=\u001b[0m\u001b[0;32mNone\u001b[0m\u001b[0;34m)\u001b[0m\u001b[0;34m\u001b[0m\u001b[0;34m\u001b[0m\u001b[0m\n\u001b[0;32m--> 156\u001b[0;31m             X, y = self._validate_data(X, y,\n\u001b[0m\u001b[1;32m    157\u001b[0m                                        validate_separately=(check_X_params,\n\u001b[1;32m    158\u001b[0m                                                             check_y_params))\n",
      "\u001b[0;32m/apps/software/standard/compiler/gcc/9.2.0/jupyter_conda/2020.11-py3.8/lib/python3.8/site-packages/sklearn/base.py\u001b[0m in \u001b[0;36m_validate_data\u001b[0;34m(self, X, y, reset, validate_separately, **check_params)\u001b[0m\n\u001b[1;32m    427\u001b[0m                 \u001b[0;31m# :(\u001b[0m\u001b[0;34m\u001b[0m\u001b[0;34m\u001b[0m\u001b[0;34m\u001b[0m\u001b[0m\n\u001b[1;32m    428\u001b[0m                 \u001b[0mcheck_X_params\u001b[0m\u001b[0;34m,\u001b[0m \u001b[0mcheck_y_params\u001b[0m \u001b[0;34m=\u001b[0m \u001b[0mvalidate_separately\u001b[0m\u001b[0;34m\u001b[0m\u001b[0;34m\u001b[0m\u001b[0m\n\u001b[0;32m--> 429\u001b[0;31m                 \u001b[0mX\u001b[0m \u001b[0;34m=\u001b[0m \u001b[0mcheck_array\u001b[0m\u001b[0;34m(\u001b[0m\u001b[0mX\u001b[0m\u001b[0;34m,\u001b[0m \u001b[0;34m**\u001b[0m\u001b[0mcheck_X_params\u001b[0m\u001b[0;34m)\u001b[0m\u001b[0;34m\u001b[0m\u001b[0;34m\u001b[0m\u001b[0m\n\u001b[0m\u001b[1;32m    430\u001b[0m                 \u001b[0my\u001b[0m \u001b[0;34m=\u001b[0m \u001b[0mcheck_array\u001b[0m\u001b[0;34m(\u001b[0m\u001b[0my\u001b[0m\u001b[0;34m,\u001b[0m \u001b[0;34m**\u001b[0m\u001b[0mcheck_y_params\u001b[0m\u001b[0;34m)\u001b[0m\u001b[0;34m\u001b[0m\u001b[0;34m\u001b[0m\u001b[0m\n\u001b[1;32m    431\u001b[0m             \u001b[0;32melse\u001b[0m\u001b[0;34m:\u001b[0m\u001b[0;34m\u001b[0m\u001b[0;34m\u001b[0m\u001b[0m\n",
      "\u001b[0;32m/apps/software/standard/compiler/gcc/9.2.0/jupyter_conda/2020.11-py3.8/lib/python3.8/site-packages/sklearn/utils/validation.py\u001b[0m in \u001b[0;36minner_f\u001b[0;34m(*args, **kwargs)\u001b[0m\n\u001b[1;32m     70\u001b[0m                           FutureWarning)\n\u001b[1;32m     71\u001b[0m         \u001b[0mkwargs\u001b[0m\u001b[0;34m.\u001b[0m\u001b[0mupdate\u001b[0m\u001b[0;34m(\u001b[0m\u001b[0;34m{\u001b[0m\u001b[0mk\u001b[0m\u001b[0;34m:\u001b[0m \u001b[0marg\u001b[0m \u001b[0;32mfor\u001b[0m \u001b[0mk\u001b[0m\u001b[0;34m,\u001b[0m \u001b[0marg\u001b[0m \u001b[0;32min\u001b[0m \u001b[0mzip\u001b[0m\u001b[0;34m(\u001b[0m\u001b[0msig\u001b[0m\u001b[0;34m.\u001b[0m\u001b[0mparameters\u001b[0m\u001b[0;34m,\u001b[0m \u001b[0margs\u001b[0m\u001b[0;34m)\u001b[0m\u001b[0;34m}\u001b[0m\u001b[0;34m)\u001b[0m\u001b[0;34m\u001b[0m\u001b[0;34m\u001b[0m\u001b[0m\n\u001b[0;32m---> 72\u001b[0;31m         \u001b[0;32mreturn\u001b[0m \u001b[0mf\u001b[0m\u001b[0;34m(\u001b[0m\u001b[0;34m**\u001b[0m\u001b[0mkwargs\u001b[0m\u001b[0;34m)\u001b[0m\u001b[0;34m\u001b[0m\u001b[0;34m\u001b[0m\u001b[0m\n\u001b[0m\u001b[1;32m     73\u001b[0m     \u001b[0;32mreturn\u001b[0m \u001b[0minner_f\u001b[0m\u001b[0;34m\u001b[0m\u001b[0;34m\u001b[0m\u001b[0m\n\u001b[1;32m     74\u001b[0m \u001b[0;34m\u001b[0m\u001b[0m\n",
      "\u001b[0;32m/apps/software/standard/compiler/gcc/9.2.0/jupyter_conda/2020.11-py3.8/lib/python3.8/site-packages/sklearn/utils/validation.py\u001b[0m in \u001b[0;36mcheck_array\u001b[0;34m(array, accept_sparse, accept_large_sparse, dtype, order, copy, force_all_finite, ensure_2d, allow_nd, ensure_min_samples, ensure_min_features, estimator)\u001b[0m\n\u001b[1;32m    617\u001b[0m             \u001b[0;31m# If input is 1D raise error\u001b[0m\u001b[0;34m\u001b[0m\u001b[0;34m\u001b[0m\u001b[0;34m\u001b[0m\u001b[0m\n\u001b[1;32m    618\u001b[0m             \u001b[0;32mif\u001b[0m \u001b[0marray\u001b[0m\u001b[0;34m.\u001b[0m\u001b[0mndim\u001b[0m \u001b[0;34m==\u001b[0m \u001b[0;36m1\u001b[0m\u001b[0;34m:\u001b[0m\u001b[0;34m\u001b[0m\u001b[0;34m\u001b[0m\u001b[0m\n\u001b[0;32m--> 619\u001b[0;31m                 raise ValueError(\n\u001b[0m\u001b[1;32m    620\u001b[0m                     \u001b[0;34m\"Expected 2D array, got 1D array instead:\\narray={}.\\n\"\u001b[0m\u001b[0;34m\u001b[0m\u001b[0;34m\u001b[0m\u001b[0m\n\u001b[1;32m    621\u001b[0m                     \u001b[0;34m\"Reshape your data either using array.reshape(-1, 1) if \"\u001b[0m\u001b[0;34m\u001b[0m\u001b[0;34m\u001b[0m\u001b[0m\n",
      "\u001b[0;31mValueError\u001b[0m: Expected 2D array, got 1D array instead:\narray=[2.0947125 2.2518396 1.7863402 2.0192606 2.0701692 2.2518396 2.2518396\n 1.9928358 2.0947125 2.0450282 1.909274  1.8798636 1.9378793 2.0450282\n 2.0192606 1.9657204 1.8798636 1.8496037 2.0701692 1.9928358 2.142112\n 2.2518396 1.7863402 2.118685  1.8798636 2.1650167 2.0701692 2.2518396\n 2.0947125 2.0192606 1.8496037 2.118685  2.0192606 2.0947125 2.1874218\n 1.8798636 1.9657204 2.0947125 2.0450282 1.7532289 2.118685  2.1874218\n 2.1874218 2.0701692 1.8798636 2.0192606 1.9657204 1.8798636 2.1874218\n 1.8798636 2.2308142 2.0450282 2.0947125 2.0192606 2.142112  1.909274\n 1.9928358 2.0701692 1.9378793 1.8184465 2.0192606 1.9378793 2.0947125\n 2.0192606 1.9657204 2.118685  2.142112  1.7190518 2.2308142 2.0701692\n 2.142112  2.0450282 2.1874218 2.118685  1.9378793 2.142112  2.0192606\n 2.0192606 2.0192606 2.0192606 2.2093477 2.0192606 1.9928358 2.1650167\n 1.9378793 1.7190518 2.0450282 2.0701692 1.9928358 2.2518396 2.1874218\n 2.0450282 2.142112  2.0450282 1.9378793 1.9378793 1.8798636 1.9657204\n 1.8798636 1.8798636 2.1874218 2.118685  1.9928358 1.9657204 2.0450282\n 2.2093477 2.3124382 2.118685  2.0450282 1.8496037 2.1874218 1.7190518\n 2.0450282 2.0947125 1.9657204 2.142112  2.2518396 1.9928358 2.2093477\n 2.0701692 1.8798636 2.0701692 1.8496037 2.0192606 1.9657204 2.118685\n 2.0192606 2.0701692 2.1650167 2.1650167 1.8798636 2.0450282 1.909274\n 1.7863402 2.0701692 2.118685  2.1650167 1.9378793 1.8798636 2.0192606\n 2.1650167 2.118685  1.909274  1.8184465 2.2093477 1.9928358 2.0192606\n 2.2518396 2.0450282 2.142112  1.8184465 2.2518396 2.0450282 1.909274\n 1.8798636 1.9378793 2.0701692 1.9657204 1.9928358 2.0701692 2.0701692\n 2.0450282 1.9928358 2.0192606 1.9378793 2.0947125 2.142112  1.7190518\n 1.9378793 2.0947125 1.9928358 2.0192606 1.8798636 1.7863402 2.1874218\n 2.0450282 2.142112  1.7863402 2.1874218 2.0450282 2.0450282 2.0701692\n 2.0192606 2.0450282 2.1650167 1.9657204 2.0947125 1.9657204 2.0450282\n 2.2308142 1.8184465 1.9657204 2.0701692 1.9657204 2.0192606 2.0947125\n 2.118685  2.0947125 2.0947125 2.0192606 1.9657204 2.0192606 1.8496037\n 1.909274  2.1650167 1.9928358 1.7863402 1.8496037 2.0947125 2.0450282\n 1.9928358 1.8798636 1.8496037 1.8184465 2.0947125 2.1874218 2.0450282\n 1.909274  2.0450282 2.1650167 2.1874218 2.1650167 1.8184465 2.0947125\n 2.0701692 2.2518396 1.8184465 1.9378793 1.8496037 2.1874218 2.2518396\n 1.9657204 1.9928358 1.8496037 1.8184465 1.8798636 2.0450282 2.2093477\n 2.0192606 1.8496037 2.2518396 2.0192606 1.8184465 1.9928358 2.0701692\n 2.2724414 1.8798636 2.1650167 1.909274  1.9657204 2.0450282 1.9657204\n 2.0450282 2.3124382 2.0450282 2.0192606 2.0192606 2.0701692 2.142112\n 1.909274  1.9378793 2.2724414 2.2518396 2.0192606 1.9657204 2.142112\n 1.8798636 2.2093477 2.0192606 1.9657204 1.8496037 1.8496037 2.0450282\n 2.0701692 2.1874218 1.9657204 2.0192606 1.8496037 1.8496037 1.9657204\n 1.9657204 2.0192606 2.0947125 1.9928358 2.0450282 2.1874218 1.9378793\n 2.1650167 1.8496037 2.0450282 1.9928358 2.0192606 2.1874218 2.0701692\n 2.0701692 1.7532289 2.2518396 2.0701692 1.909274  1.7863402 2.142112\n 2.0450282 1.7190518 2.0701692 2.0450282 2.2308142 1.9657204 2.0450282\n 2.0947125 2.0192606 1.8798636 2.1874218 1.8798636 2.2724414 2.0450282\n 2.1874218 1.9657204 2.0192606 1.9928358 2.1874218 2.0450282 2.2724414\n 1.909274  2.0947125 2.0701692 1.9657204 1.909274  2.0192606 2.0701692\n 1.8496037 2.2093477 1.9378793 1.8798636 2.0450282 2.0701692 1.7190518\n 2.3124382 2.0701692 1.909274  2.2518396 1.7863402 1.7863402 1.9378793\n 2.0192606 2.1874218 2.1874218 2.1650167 2.2518396 1.9928358 2.0192606\n 1.8496037 2.0947125 1.9928358 2.0701692 1.9657204 2.142112  1.9928358\n 2.0701692 2.0947125 2.2518396 2.0192606 2.0192606 2.1650167 2.142112\n 1.9657204 2.2724414 2.0450282 2.1650167 1.909274  2.1874218 1.8496037\n 2.0947125 2.0450282 1.9928358 1.909274  1.9928358 1.9657204 2.0701692\n 2.0701692 2.0947125 1.9928358 2.0450282 2.0947125 2.1650167 1.909274\n 2.0701692 1.909274  2.0701692 2.2518396 2.0192606 2.0701692 2.0947125\n 1.9378793 2.142112  2.2518396 1.8798636 2.0701692 1.8184465 1.9657204\n 2.118685  2.0701692 1.8798636 1.7863402 1.7190518 2.0450282 1.9378793\n 1.8184465 2.1650167 2.118685  1.9378793 2.0701692 2.0192606 1.8798636\n 1.8496037 1.9378793 1.7532289 1.9657204 1.9378793 2.118685  1.8184465\n 2.0450282 1.9657204 1.8798636 2.0450282 2.2518396 2.1650167 1.909274\n 1.7863402 2.2518396 2.1650167 1.9378793 1.9928358 1.9928358 2.2308142\n 2.0450282 2.1650167 1.9657204 2.0701692 2.0947125 2.118685  1.9657204\n 2.0947125 1.909274  2.1650167 2.1874218 1.9928358 2.0947125 1.9657204\n 2.0701692 1.8496037 2.0192606 1.7863402 2.0450282 1.9378793 2.0701692\n 2.0192606 2.0450282 2.1874218 2.0192606 2.0701692 1.7863402 1.9378793\n 1.9928358 1.7863402 1.909274  1.8496037 2.0701692 1.9657204 2.0450282\n 2.1650167 2.142112  2.0450282 1.9928358 1.8184465 2.2518396 2.0947125\n 2.142112  2.1650167 2.118685  1.9657204 1.9378793 2.3124382 1.909274\n 1.909274  1.8798636 1.7532289 2.0450282 1.8798636 2.2518396 2.0450282\n 2.0701692 2.2308142 1.909274  2.1650167 2.0701692 2.0192606 1.9657204\n 1.9378793 2.0450282 2.1650167 2.0450282 1.8184465 2.0701692 1.9657204\n 2.2724414 1.9657204 2.1650167 2.0701692 2.2518396 1.9378793 2.1874218\n 2.0947125 2.0701692 1.8184465 1.7863402 2.3124382 2.142112  2.0947125\n 2.1650167 2.0947125 2.0450282 2.1874218 2.0947125 1.9378793 2.0192606\n 1.7190518 1.8798636 2.0701692 1.9928358 2.118685  2.0947125 1.9928358\n 1.9378793 1.9928358 1.9378793 1.9657204 2.0192606 1.909274 ].\nReshape your data either using array.reshape(-1, 1) if your data has a single feature or array.reshape(1, -1) if it contains a single sample."
     ]
    }
   ],
   "source": [
    "y = df['avg_salary_ihs'] # Create target variable vector\n",
    "\n",
    "# Create feature matrix with rating\n",
    "\n",
    "X = df['Rating_ihs']\n",
    "# X.head()\n",
    "\n",
    "from sklearn import tree \n",
    "\n",
    "model = tree.DecisionTreeRegressor(max_depth=20) # Fit the classifier\n",
    "cart = model.fit(X_train, y_train)\n",
    "tree.plot_tree(cart,filled=True) \n",
    "plt.show()\n",
    "\n",
    "## Make Predictions on the Test Set\n",
    "y_hat_cart = cart.predict(X_test)\n",
    "residuals_cart = y_test - y_hat_cart\n",
    "\n",
    "\n",
    "## Metrics:\n",
    "SSE_cart = np.sum( (y_test-y_hat_cart)**2 )\n",
    "MSE_cart = (1/N_test)*np.sum( (y_test-y_hat_cart)**2 )\n",
    "RMSE_cart = (SSE_cart/N_test)**(1/2)\n",
    "print(RMSE_cart,'\\n')\n",
    "R2_cart = 1 - SSE_cart/TSS\n",
    "print(R2_cart,'\\n')"
   ]
  },
  {
   "cell_type": "markdown",
   "metadata": {},
   "source": [
    "**Q3.** This a question purely on categorical prediction. The data for this happen to be gathered in 1987 in Indonesia, and concern contraceptive method choice. The questions and data-gathering assumptions reflect the culture and attitudes of that time and place, but provide a good example of a categorical prediction problem on an important topic (family planning and maternal health The variables in the data are:\n",
    "\n",
    "    - Wife's age (numerical)\n",
    "    - Wife's education (categorical) 1=low, 2, 3, 4=high \n",
    "    - Husband's education (categorical) 1=low, 2, 3, 4=high \n",
    "    - Number of children ever born (numerical) \n",
    "    - Wife's religion (binary) 0=Non-Islam, 1=Islam\n",
    "    - Wife's now working? (binary) 0=Yes, 1=No\n",
    "    - Husband's occupation (categorical) 1, 2, 3, 4\n",
    "    - Standard-of-living index (categorical) 1=low, 2, 3, 4=high\n",
    "    - Media exposure (binary) 0=Good, 1=Not good\n",
    "    - Contraceptive method used (class attribute) 1=No-use, 2=Long-term, 3=Short-termhort-term\n",
    "\n",
    "  1. Load the `contraceptiveMethodChoice.csv` data. Tabulate the `method` variable (i.e. `.value_counts()`). 1 corresponds to `No Contraception`, 3 corresponds to `Short Term` (e.g. condoms, birth control pills), and 2 corresponds to `Long Term` (e.g. IUD, sterilization). Cross tabulate `method` and `numberChildren`. Do couples that use birth control tend to have more children than those who don't?\n",
    "  2. Split the sample into ~80% training data and ~20% testing data.\n",
    "  3. We are now going to make a mistake. Train a regression tree to predict the contraceptive method using the other variables in the data, not a classification tree. Look at the terminal nodes in the tree: What values do they take? Does that make sense? Explain clearly what has gone wrong here.\n",
    "  4. Instead of regression, use a classification tree to predict contraceptive method using the other variables in the data. How does it look different from the previous tree? What variables does the algorithm use? In broad terms, which groups of people are most likely to use each method of contraception?\n",
    "  5. Compute a confusion matrix for your classification tree on the test set (Hint: There are now three categories instead of two, so the cross tabulation will be a $3 \\times 3$ matrix instead of $2 \\times 2$.). Compute the Accuracy of your model overall, and the Accuracy for predicting each contraceptive method.\n",
    "  7. Why can't you use a linear probability model to do this exercise? Explain clearly in words."
   ]
  },
  {
   "cell_type": "markdown",
   "metadata": {},
   "source": [
    "**Q4.** This is a question where we use regression and regression trees. The outcome is whether a defendant is held pre-trial in the Virginia justice system. We would like to understand how that outcome is predicted by characteristics of the defendant, particularly race. Let's be very careful/clear: We aren't saying anyone *should* be held without bond or asserting that people with different demographic variables *should* be more likely to be held, but instead trying to predict whether people with different characteristics *are empirically more likely* to be held without bond, given the available information. This is the first step we would take in investigating whether a system is fair, or how large the disparities are: Does it treat people with similar observable characteristics similarly, or not? We are going to look at a common question: Are Black defendants treated differently from white or Asian ones? (There are Native American defendants, but there are 11 in total, which is such a small number of observations that is difficult to clearly say anything about how this group is treated relative to the others.)\n",
    "\n",
    "The variables in the data are:\n",
    "\n",
    "  - `held_wo_bail`: Whether a defendant is held without bail before trial (Boolean logical)\n",
    "  - `race`, `sex`: Categorical demographic variables\n",
    "  - `is_poor`: Whether the defendant is classified as indigent \n",
    "  - `prior_F`, `prior_M`: The number of prior felony and misdemeanor arrests\n",
    "  - `case_type`: A categorical variable indicating a misdemeanor `M` or felony `F` or infraction `I` or special case `S`\n",
    "  - `age`: Defendant's age\n",
    "  - `bond`, `bond_NA`, `bond_type`: The amount of any bond, whether it is missing, and the type\n",
    "  - `sentence`, `sentence_NA`, `sentence_type`: The length of any sentence, whether it is missing, and the type\n",
    "\n",
    "1. Load the `pretrial_data.csv` data. Notice that there are `nan`s, but the data are relatively clean. Because there are `.nan`s among variables you won't use, you'll want to narrow down your analysis to the relevant variables before dropping or imputing missing values.\n",
    "2. Create a dummy variable indicating that the defendant is Black.\n",
    "3. Regress `held` on `Black`. What is the slope coefficient Interpret the coefficient on the Black dummy variable: How much more likely is a black person to be held without bail? What is the $R^2$ of the model?\n",
    "4. Before doing this question, please think for a few minutes about how to make the process of running these regressions as efficient as possible, before jumping into writing code. Repeat part 2, for the following specifications, keeping track of the coefficient on the Black dummy variable each time:\n",
    "      - `held` on `Black` and `sex`\n",
    "      - `held` on `Black` and `sex` and `is_poor`\n",
    "      - `held` on `Black` and `sex` and `is_poor` and `prior_F`\n",
    "      - `held` on `Black` and `sex` and `is_poor` and `prior_F` and `case_type`\n",
    "What happens to the coefficient on the Black dummy variable as you include more regressors/features/controls in the regression? Explain your findings.\n",
    "5. Suppose we don't want to see just `Black` and `sex`, but `Black` interacted with `sex`: Are Black men and Black women treated systemically differently from the rest of the population? Implement this in a regression, and explain your findings.\n",
    "6. Imagine someone argued we should use these kinds of models to help a judge or magistrate make bail decisions (you could obviously go back and make this kind of model for the bond and sentence variables, then deploy it on new cases to predict what their bond and sentence values would be). What concerns would you have? Do you think society should be using data-driven and automated tools like that? Explain your concerns clearly."
   ]
  },
  {
   "cell_type": "markdown",
   "metadata": {},
   "source": [
    "**Q5.** This is a math question to review the derivation of the OLS estimator (but only if you are into that kind of thing!). We are going to do it slightly differently from what we did in class, though. We will use a linear predictor and minimize the Sum of Squared Errors, just as in class. But, we are going to de-mean $X$ first, creating another variable $z_i = x_i - \\bar{x}$ where \n",
    "$$\n",
    "\\bar{x} = \\dfrac{1}{N} \\sum_{i=1}^N x_i,\n",
    "$$\n",
    "so the model is $\\hat{y}_i = a + b z_i$ and the `SSE` is\n",
    "$$\n",
    "\\text{SSE}(a,b) = \\sum_{i=1}^N (y_i - a - bz_i)^2.\n",
    "$$\n",
    "\n",
    "  1. Take partial derivatives of the `SSE` with respect to $a$ and $b$. You should get\n",
    "\n",
    "\\begin{eqnarray*}\n",
    "\\sum_{i=1}^N -2(y_i - a- bz_i) &=& 0 \\\\\n",
    "\\sum_{i=1}^N -2(y_i - a - bz_i)z_i &=& 0.\n",
    "\\end{eqnarray*}\n",
    "\n",
    "  2. Solve for the solutions to the above equations. Big hint: $\\bar{z} = 0$, since we subtracted the mean of $x$ from $x$ to get $z$. You should get\n",
    "\n",
    "\\begin{eqnarray*}\n",
    "a^* &=& \\bar{y} \\\\\n",
    "b^* &=& \\dfrac{\\sum_{i=1}^N(y_i - \\bar{y})z_i}{\\sum_{i=1}^N z_i^2}.\n",
    "\\end{eqnarray*}\n",
    "\n",
    "  3. Substitute $z_i = x_i - \\bar{x}$ back into the above equations. You should get\n",
    "  \n",
    "\\begin{eqnarray*}\n",
    "a^* &=& \\bar{y} \\\\\n",
    "b^* &=& \\dfrac{\\sum_{i=1}^N(y_i - \\bar{y})(x_i-\\bar{x})}{\\sum_{i=1}^N (x_i-\\bar{x})^2},\n",
    "\\end{eqnarray*}\n",
    "\n",
    "which can be written in terms of sample covariance and sample variance as:\n",
    "\n",
    "\\begin{eqnarray*}\n",
    "a^* &=& \\bar{y} \\\\\n",
    "b^* &=& \\dfrac{\\text{cov}(x,y)}{\\text{var}(x)}.\n",
    "\\end{eqnarray*}\n",
    "\n",
    "This is typically the preferred way of expressing the OLS coefficients.\n",
    "\n",
    "4. When will $b^*$ be large or small, depending on the relationship between $x$ and $y$ and the amount of \"noise\"/variance in $x$? What does $a^*$ represent?\n",
    "5. Suppose you have measurement error in $x$ which artificially inflates its variance (e.g. bad data cleaning). What happens to the $b^*$ coefficient? How will affect your ability to predict? (This phenomenon is called **attenuation**.)\n",
    "6. Let's return to the question of *outliers*. With your formula for the OLS coefficients $(a^*,b^*)$, explain what happens if you significantly increase a single value of the outcome/target/response variable $y_i$ or one of the predictor/explanatory/covariate variables $x_i$. If values for some extreme observations are exerting significant influence over the regression coefficients, will the model perform well on for more average observations?"
   ]
  }
 ],
 "metadata": {
  "kernelspec": {
   "display_name": "Python 3",
   "language": "python",
   "name": "python3"
  },
  "language_info": {
   "codemirror_mode": {
    "name": "ipython",
    "version": 3
   },
   "file_extension": ".py",
   "mimetype": "text/x-python",
   "name": "python",
   "nbconvert_exporter": "python",
   "pygments_lexer": "ipython3",
   "version": "3.8.8"
  }
 },
 "nbformat": 4,
 "nbformat_minor": 5
}
